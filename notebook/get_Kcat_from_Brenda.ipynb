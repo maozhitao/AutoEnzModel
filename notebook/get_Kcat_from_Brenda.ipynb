{
 "metadata": {
  "language_info": {
   "codemirror_mode": {
    "name": "ipython",
    "version": 3
   },
   "file_extension": ".py",
   "mimetype": "text/x-python",
   "name": "python",
   "nbconvert_exporter": "python",
   "pygments_lexer": "ipython3",
   "version": "2.7.17-final"
  },
  "orig_nbformat": 2,
  "kernelspec": {
   "name": "python_defaultSpec_1599118251043",
   "display_name": "Python 2.7.17 64-bit"
  }
 },
 "nbformat": 4,
 "nbformat_minor": 2,
 "cells": [
  {
   "cell_type": "code",
   "execution_count": null,
   "metadata": {},
   "outputs": [],
   "source": [
    "pip install SOAPpy -i https://pypi.tuna.tsinghua.edu.cn/simple\n",
    "pip install pandas -i https://pypi.tuna.tsinghua.edu.cn/simple"
   ]
  },
  {
   "cell_type": "markdown",
   "metadata": {},
   "source": [
    "# python2 获取EC-Kcat"
   ]
  },
  {
   "cell_type": "code",
   "execution_count": 2,
   "metadata": {
    "tags": []
   },
   "outputs": [],
   "source": [
    "import pandas as pd\n",
    "from Script.Get_Kcat_from_Brenda import *"
   ]
  },
  {
   "cell_type": "code",
   "execution_count": 3,
   "metadata": {},
   "outputs": [],
   "source": [
    "import pandas as pd\n",
    "iML1515_reaction_ec=pd.read_csv('../analysis/iML1515_reaction_ec.csv',index_col=0) \n",
    "iCW773_reaction_ec=pd.read_csv('../analysis/iCW773_reaction_ec.csv',index_col=0) \n",
    "iML1515_ec=list(set(iML1515_reaction_ec['EC']))\n",
    "iCW773_ec=list(set(iCW773_reaction_ec['EC']))\n"
   ]
  },
  {
   "cell_type": "code",
   "execution_count": 5,
   "metadata": {},
   "outputs": [],
   "source": [
    "search_function='getTurnoverNumber'\n",
    "#'getTurnoverNumber' 'getKmValue'  'getKiValue' 'getSpecificActivity' 'getActivatingCompound' 'getInhibitors' 'getPathway' 'getCofactor'\n",
    "org=r'Escherichia coli'#'Corynebacterium glutamicum' 'Escherichia coli'\n",
    "ec_number=iML1515_ec\n",
    "run_file=r'../data/Brenda_my/'\n",
    "#create_file(run_file)\n",
    "outfile=r'%s%s_%s.txt' % (run_file,search_function,org)\n",
    "outFile=open(outfile,'w') \n",
    "for eachec in ec_number:\n",
    "     query_brenda_by_ec_org(outFile,eachec,org,search_function) \n",
    "outFile.close()"
   ]
  },
  {
   "cell_type": "code",
   "execution_count": 5,
   "metadata": {
    "tags": []
   },
   "outputs": [
    {
     "output_type": "stream",
     "name": "stdout",
     "text": "Escherichia coli kcat数：247\n"
    }
   ],
   "source": [
    "import pandas as pd\n",
    "cg_ec_data=pd.read_csv(outfile,sep='#',header=None) \n",
    "cg_ec_data.columns=[\"ecNumber\",\"turnoverNumber\",\"turnoverNumberMaximum\",\"substrate\",\"commentary\",\"organism\",\"ligandStructureId\",\"literature\",'none']\n",
    "cg_ec_data.drop(columns=['none'])\n",
    "cg_ec_data.head(10)\n",
    "print(\"%s kcat数：\"%org+str(len(list(set(cg_ec_data['ecNumber'])))))"
   ]
  },
  {
   "cell_type": "code",
   "execution_count": null,
   "metadata": {},
   "outputs": [],
   "source": []
  }
 ]
}