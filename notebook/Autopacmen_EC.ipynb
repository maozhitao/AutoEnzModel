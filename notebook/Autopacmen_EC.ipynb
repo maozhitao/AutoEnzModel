{
 "metadata": {
  "language_info": {
   "codemirror_mode": {
    "name": "ipython",
    "version": 3
   },
   "file_extension": ".py",
   "mimetype": "text/x-python",
   "name": "python",
   "nbconvert_exporter": "python",
   "pygments_lexer": "ipython3",
   "version": "2.7.17-final"
  },
  "orig_nbformat": 2,
  "kernelspec": {
   "name": "python_defaultSpec_1599658722375",
   "display_name": "Python 2.7.17 64-bit"
  }
 },
 "nbformat": 4,
 "nbformat_minor": 2,
 "cells": [
  {
   "cell_type": "code",
   "execution_count": 4,
   "metadata": {},
   "outputs": [],
   "source": [
    "import json\n",
    "path=r'C:/Users/mao_zt/Desktop/psb_orth_reactions_kcat_mapping_combined.json'\n",
    "with open(path) as f:\n",
    "        dictionary = json.load(f)\n"
   ]
  },
  {
   "cell_type": "code",
   "execution_count": 11,
   "metadata": {
    "tags": []
   },
   "outputs": [],
   "source": [
    "has_data=[]\n",
    "total_data=[]\n",
    "import math\n",
    "x=float('nan')\n",
    "math.isnan(x)\n",
    "for (k,v) in  dictionary.items(): \n",
    "    total_data.append(k)\n",
    "    forward=float(v['forward'])\n",
    "    reverse=float(v['reverse'])\n",
    "    if math.isnan(forward):\n",
    "        pass\n",
    "    elif math.isnan(reverse):\n",
    "        pass\n",
    "    else:\n",
    "        has_data.append(k)"
   ]
  },
  {
   "cell_type": "code",
   "execution_count": 16,
   "metadata": {
    "tags": []
   },
   "outputs": [
    {
     "output_type": "stream",
     "name": "stdout",
     "text": "1155\n2333\n"
    }
   ],
   "source": [
    "print(len(set(has_data)))\n",
    "print(len(set(total_data)))\n"
   ]
  },
  {
   "cell_type": "code",
   "execution_count": 14,
   "metadata": {},
   "outputs": [
    {
     "output_type": "execute_result",
     "data": {
      "text/plain": "0"
     },
     "metadata": {},
     "execution_count": 14
    }
   ],
   "source": [
    "1155/2333"
   ]
  },
  {
   "cell_type": "code",
   "execution_count": 17,
   "metadata": {},
   "outputs": [
    {
     "output_type": "execute_result",
     "data": {
      "text/plain": "{u'CSND',\n u'GTPDPDP',\n u'EX_xan_e',\n u'NTD10',\n u'NTD11',\n u'NTD12',\n u'PMEACPE',\n u'XTSNH',\n u'DDPA',\n u'Htex',\n u'P5CD',\n u'2DGULRy',\n u'2DGULRx',\n u'GAMptspp',\n u'ETHAAL',\n u'EX_lac__D_e',\n u'P5CR',\n u'EX_glyclt_e',\n u'EX_dimp_e',\n u'GLUTRR',\n u'GTHOr',\n u'ULA4Ntppi',\n u'EX_peamn_e',\n u'MSAR',\n u'AGM4Pt2pp',\n u'EX_duri_e',\n u'KAS15',\n u'KAS14',\n u'EX_hxa_e',\n u'G5SADs',\n u'ALAALAtex',\n u'FMNAT',\n u'ORNtex',\n u'2AGPG141tipp',\n u'SERtex',\n u'OMMBLHX',\n u'S2FE2SS2',\n u'PANTS',\n u'E4PD',\n u'PLIPA2A180pp',\n u'SCYSDS',\n u'EX_ppal_e',\n u'EX_pydam_e',\n u'TREHpp',\n u'G3PSabcpp',\n u'42A12BOOXpp',\n u'ACOAD1f',\n u'ACLS',\n u'FACOAE180',\n u'GLYCTO4',\n u'EX_urea_e',\n u'LPLIPAL2ATG120',\n u'GLYCTO3',\n u'GLYCTO2',\n u'O2Stex',\n u'LYXt2pp',\n u'LPLIPAL1A180pp',\n u'2AGPEAT181',\n u'INDOLEt2pp',\n u'5MTRtpp',\n u'DAPAL',\n u'ARBTNtex',\n u'PAPA181pp',\n u'COBALT2abcpp',\n u'CYTBO3_4pp',\n u'EX_no_e',\n u'UMPtex',\n u'EX_lipa_cold_e',\n u'LPLIPAL2G140',\n u'LPLIPAL2G141',\n u'PA160abcpp',\n u'ADSL2r',\n u'DSERt2pp',\n u'ACONIs',\n u'UAGPT3',\n u'EX_cynt_e',\n u'ASPTA',\n u'CYSDDS',\n u'DHPTDNRN',\n u'EX_hxan_e',\n u'GAMAN6Ptex',\n u'GLYCtpp',\n u'UDCPPtppi',\n u'EX_acmum_e',\n u'EX_tyr__L_e',\n u'ASPO4',\n u'EAR121y',\n u'ADNt2pp_copy1',\n u'ADNt2pp_copy2',\n u'ALATRS',\n u'CTBTt2rpp',\n u'MDDCP2pp',\n u'EX_h2_e',\n u'UDPACGALtex',\n u'INDOLEtex',\n u'23DAPPAt2pp',\n u'LEUTAi',\n u'EX_tyrp_e',\n u'3AMPtex',\n u'EX_gthox_e',\n u'EX_kdo2lipid4_e',\n u'XANtex',\n u'ACPS1',\n u'IPPMIa',\n u'2AGPG120tipp',\n u'FORCT',\n u'CYNTt2pp',\n u'EX_meoh_e',\n u'FACOAL160t2pp',\n u'MOHMT',\n u'DHDPS',\n u'HCYSMT',\n u'EX_3cmp_e',\n u'CFAS180E',\n u'ALATA_D2',\n u'NI2t3pp',\n u'EDA',\n u'GLUTRS',\n u'GALBDtex',\n u'GTHRDHpp',\n u'PRPPS',\n u'23PDE9pp',\n u'PNTK',\n u'SDPDS',\n u'LPLIPAL1G161pp',\n u'EX_tre_e',\n u'EX_23camp_e',\n u'EX_spmd_e',\n u'XTSNtex',\n u'VALabcpp',\n u'THMtex',\n u'EX_thym_e',\n u'TRPTRS',\n u'LEUtex',\n u'DHNPA2r',\n u'KDOPP',\n u'2AGPG181tipp',\n u'OCBT',\n u'DHORD2',\n u'DHORD5',\n u'CPGNexs',\n u'S4FE4ST',\n u'AGM4PH',\n u'EX_etha_e',\n u'S4FE4SR',\n u'ARBTNexs',\n u'AGM4PA',\n u'GMPS2',\n u'MELIBt3ipp',\n u'D_LACt2pp',\n u'ADEt2rpp',\n u'4PEPTabcpp',\n u'EX_btn_e',\n u'GALt2pp',\n u'LPLIPAL1E161pp',\n u'AGMH',\n u'AGMT',\n u'ARGAGMt7pp',\n u'DM_5drib_c',\n u'TRPtex',\n u'RHAT1',\n u'CRNtex',\n u'HMPK1',\n u'GLCURt2rpp',\n u'SO4tex',\n u'TAUDO',\n u'OMPHHX',\n u'LYSTRS',\n u'FE3Ri',\n u'DDGLK',\n u'ACONTa',\n u'ACONTb',\n u'DMSOR2',\n u'BUTCT',\n u'ASNabcpp',\n u'PLIPA1G160pp',\n u'F6Ptex',\n u'PSCVT',\n u'EX_sulfac_e',\n u'EX_5dglcn_e',\n u'EX_gbbtn_e',\n u'ETHAtex',\n u'ADNK1',\n u'EX_arbtn_fe3_e',\n u'23CGMPtex',\n u'EX_psclys_e',\n u'CLtex',\n u'3OAR60',\n u'EX_arbtn_e',\n u'DXPS',\n u'ACSERtex',\n u'FORt2pp',\n u'PLIPA2E120pp',\n u'CTBTCAL2',\n u'EX_udpgal_e',\n u'SUCRtex',\n u'O16A4Lpp',\n u'UPP3MT',\n u'METSOX2tex',\n u'MLTP1',\n u'MLTP2',\n u'MLTP3',\n u'UDPG4E',\n u'CDGR',\n u'TTRCYCtex',\n u'AM3PA',\n u'EX_o16a4colipa_e',\n u'ACMANAtex',\n u'FACOAL181t2pp',\n u'NOtex',\n u'LPLIPAL2E160',\n u'LPLIPAL2E161',\n u'CITt3pp',\n u'THRt2rpp',\n u'UM4PCP',\n u'GTHS',\n u'OROTt2_2pp',\n u'ECAP3pp',\n u'UPP3S',\n u'GLUN',\n u'EX_for_e',\n u'ETHSO3abcpp',\n u'DGSNtex',\n u'EX_dha_e',\n u'12DGR160tipp',\n u'PSP_L',\n u'IGPS',\n u'VALTRS',\n u'PYDXK',\n u'PGPP161pp',\n u'PA181abcpp',\n u'12DGR161tipp',\n u'3HPPtpp',\n u'OXCDC',\n u'UDPGtex',\n u'RMI',\n u'G3PEabcpp',\n u'MCITL2',\n u'NO3R2pp',\n u'EX_h2o2_e',\n u'FFSD',\n u'TRPAS2',\n u'UDPGALPpp',\n u'CYSDS',\n u'23DAPPAtex',\n u'GLYCtex',\n u'PLIPA1G120pp',\n u'EX_dms_e',\n u'EX_xmp_e',\n u'FEENTERtonex',\n u'MANGLYCtex',\n u'OPMEACPD',\n u'12PPDStex',\n u'AMAOTr',\n u'OPMEACPS',\n u'OPMEACPR',\n u'GALURtex',\n u'PPCSCT',\n u'DASYN120',\n u'LIPATPT',\n u'ASPt2_2pp',\n u'23CAMPtex',\n u'POX',\n u'EX_ascb__L_e',\n u'PA141abcpp',\n u'EX_pacald_e',\n u'HPPK2',\n u'ACACT1r',\n u'DTMPK',\n u'PFK_3',\n u'PFK_2',\n u'EX_fruur_e',\n u'FE3HOXUtpp',\n u'GSNt2pp',\n u'FACOAL140t2pp',\n u'EX_tsul_e',\n u'PSD140',\n u'PSD141',\n u'GLYK',\n u'MECDPDH5',\n u'EX_anhgm_e',\n u'2AGPE181tipp',\n u'GUAtex',\n u'MLDCP3App',\n u'HDCEAtexi',\n u'RNTR1c2',\n u'DATPHs',\n u'UPPDC1',\n u'MANptspp',\n u'3HAD160',\n u'DHQTi',\n u'PERD',\n u'THRD',\n u'EX_acolipa_e',\n u'THRA',\n u'RBFSb',\n u'GSNtex',\n u'RBFSa',\n u'GLDBRAN2',\n u'LEUt2rpp',\n u'THRS',\n u'DDGLCNt2rpp',\n u'BALAt2pp',\n u'EPMEACPR',\n u'ASNS2',\n u'ASNS1',\n u'EX_his__L_e',\n u'LPLIPAL1E120pp',\n u'ACPPAT141',\n u'ACPPAT140',\n u'LCTStpp',\n u'THYMtex',\n u'GLYBtex',\n u'BIOMASS_Ec_iJO1366_WT_53p95M',\n u'EX_no2_e',\n u'FACOAL120t2pp',\n u'EX_ca2_e',\n u'NADPPPS',\n u'EGMEACPR',\n u'EX_galctn__L_e',\n u'HCINNMt2rpp',\n u'EX_fe3hox_e',\n u'3OAR121',\n u'LALADGLUtex',\n u'GALCTt2rpp',\n u'ACGAM1PPpp',\n u'ARBTtex',\n u'EX_tartr__D_e',\n u'GLNS',\n u'EX_tma_e',\n u'EX_dca_e',\n u'DCYTtex',\n u'ASNTRS',\n u'CPGNUtex',\n u'PE160abcpp',\n u'EX_lcts_e',\n u'GLCNtex',\n u'UDPGALM',\n u'FE2tex',\n u'PPND',\n u'2AGPE120tipp',\n u'TARTRt7pp',\n u'2AGPA161tipp',\n u'EX_phe__L_e',\n u'CLPNH141pp',\n u'LSERDHr',\n u'GLNTRS',\n u'UMPK',\n u'G1PPpp',\n u'EX_g6p_e',\n u'URIH',\n u'5MTRtex',\n u'AMPTASEPG',\n u'DMPPS',\n u'ECOAH1',\n u'EX_cmp_e',\n u'NTD3pp',\n u'ACOAD3f',\n u'12PPDRtex',\n u'EX_ile__L_e',\n u'MLDCP2Bpp',\n u'CRNDabcpp',\n u'LACZpp',\n u'EX_so4_e',\n u'DHNCOAS',\n u'UAGCVT',\n u'NTD2pp',\n u'URIC',\n u'PYDXNtex',\n u'GLUNpp',\n u'DALAtex',\n u'ALLPI',\n u'EX_gal1p_e',\n u'EX_idon__L_e',\n u'HADPCOADH3',\n u'CTPS2',\n u'EX_12ppd__R_e',\n u'EX_gln__L_e',\n u'GTHRDabcpp',\n u'PGPP181',\n u'PGPP180',\n u'EX_csn_e',\n u'FE3DHBZR',\n u'GALTptspp',\n u'PHEt2rpp',\n u'EX_LalaDgluMdapDala_e',\n u'CPGNtonex',\n u'EX_crn_e',\n u'EX_uacgam_e',\n u'ACGAptspp',\n u'CS',\n u'SFGTHi',\n u'ALAtex',\n u'GP4GH',\n u'EX_skm_e',\n u'COLIPAPabctex',\n u'HCINNMtex',\n u'TDP',\n u'CPPPGO2',\n u'TDSK',\n u'EX_dtmp_e',\n u'FHL',\n u'CD2tpp',\n u'FE3HOXabcpp',\n u'METOX1s',\n u'ACMUMptspp',\n u'FEOXAMUtpp',\n u'DURIK1',\n u'ACGAL1Ptex',\n u'TSULtex',\n u'3NTD9pp',\n u'ACACT2r',\n u'FE3HOXR1',\n u'FE3HOXR3',\n u'FE3HOXR2',\n u'PYDAMK',\n u'EAR121x',\n u'METTRS',\n u'FUSAtex',\n u'ACGAL1PPpp',\n u'SHCHCS3',\n u'HKNTDH',\n u'12DGR120tipp',\n u'PTRCt2pp',\n u'EX_galct__D_e',\n u'UPLA4FNT',\n u'LPLIPAL2G180',\n u'LPLIPAL2G181',\n u'GUI2',\n u'GUI1',\n u'MCTP2App',\n u'GLUtex',\n u'D_LACtex',\n u'MALTHXtexi',\n u'THMDtex',\n u'Zn2tex',\n u'EX_tym_e',\n u'GTHRDabc2pp',\n u'PPALtpp',\n u'ALLK',\n u'LALDO3',\n u'SLNTtpp',\n u'MNt2pp',\n u'PLIPA1E160pp',\n u'EX_so2_e',\n u'RBFK',\n u'OPHHX',\n u'4PCP',\n u'ACNAMtex',\n u'CGLYtex',\n u'EX_thymd_e',\n u'HYXNtpp',\n u'2AGPA120tipp',\n u'HYD1pp',\n u'BSORx',\n u'CBItonex',\n u'NDPK6',\n u'2DGULRGy',\n u'2DGULRGx',\n u'DOPAtex',\n u'2AGPG180tipp',\n u'ADOCBLabcpp',\n u'FUMt2_2pp',\n u'AGMtex',\n u'WCOS',\n u'METS',\n u'KDOCT2',\n u'O16AP1pp',\n u'EX_imp_e',\n u'ACOLIPAabctex',\n u'PROD2',\n u'REPHACCOAI',\n u'EX_nac_e',\n u'G3PStex',\n u'ENLIPAabctex',\n u'PSCLYStex',\n u'HOMtex',\n u'XYLabcpp',\n u'PE120abcpp',\n u'GBBTNtex',\n u'GLYCDx',\n u'RBP4E',\n u'CHTBStex',\n u'EX_feoxam_un_e',\n u'ARBTNabcpp',\n u'EX_3hcinnm_e',\n u'12DGR181tipp',\n u'GALS3',\n u'DMStex',\n u'URAt2pp_copy1',\n u'OMMBLHX3',\n u'URAt2pp_copy2',\n u'AMPN',\n u'FE3HOXexs',\n u'PAPPT3',\n u'PG160abcpp',\n u'FLVR',\n u'NADPHQR3',\n u'NADPHQR4',\n u'EX_gtp_e',\n u'AACPS8',\n u'ADOCBLS',\n u'PG180abcpp',\n u'LADGMDH',\n u'DDGALK',\n u'CPGNabcpp',\n u'ECAP1pp',\n u'3OAR80',\n u'FCLT',\n u'ORNDC',\n u'PItex',\n u'EX_cpgn_e',\n u'SELGTHR',\n u'AP5AH',\n u'GLCURtex',\n u'MOCOS',\n u'PGPP160pp',\n u'AB6PGH',\n u'RNDR2b',\n u'AACPS2',\n u'EX_gmp_e',\n u'TYRtex',\n u'HDCAtexi',\n u'SBTptspp',\n u'SULR',\n u'FACOAE100',\n u'ADD',\n u'FCI',\n u'MDDEP2pp',\n u'GLCDpp',\n u'FDH4pp',\n u'EDTXS4',\n u'EDTXS1',\n u'EDTXS3',\n u'LALALGLUtex',\n u'ASNtex',\n u'GTHPi',\n u'FE3DHBZStonex',\n u'Kt3pp',\n u'UAGDP',\n u'TRSARr',\n u'PDX5POi',\n u'R5PPpp',\n u'EX_cys__D_e',\n u'HPPPNt2rpp',\n u'SUCCtex',\n u'ALAt4pp',\n u'ASPt2_3pp',\n u'ACGALtex',\n u'ECA4COLIPAabctex',\n u'SUCCt3pp',\n u'SPODM',\n u'EX_ag_e',\n u'NTD8',\n u'ASPt2pp_copy2',\n u'NTD6',\n u'NTD7',\n u'NTD4',\n u'NTD5',\n u'NTD2',\n u'ASPt2pp_copy1',\n u'PDX5PO2',\n u'NAtex',\n u'METAT',\n u'2AGPG140tipp',\n u'3OAS121',\n u'INStex',\n u'EX_malthx_e',\n u'DOXRBCNtpp',\n u'PPCK',\n u'ARBTNR3',\n u'CTECOAI6',\n u'CTECOAI7',\n u'ADSL1r',\n u'PACALDtex',\n u'EX_met__L_e',\n u'CTECOAI8',\n u'G6PDH2r',\n u'ACtex',\n u'MELIBt2pp',\n u'EX_tungs_e',\n u'NACODA',\n u'DSERtex',\n u'HG2t3pp',\n u'CFAS180G',\n u'GDPMNH',\n u'BMOCOS',\n u'UM4PL',\n u'EX_metsox_R__L_e',\n u'ACMUMtex',\n u'LPLIPAL1A120pp',\n u'MMETt2pp',\n u'EX_fe3_e',\n u'DHACOAH',\n u'EX_rfamp_e',\n u'MN2tpp',\n u'EX_fe3dhbzs_e',\n u'PE180abcpp',\n u'FOMETRi',\n u'ARBt2rpp',\n u'ICHORS_copy2',\n u'PAPA161',\n u'MOADSUx',\n u'ICHORS_copy1',\n u'MALTPTabcpp',\n u'ACACT3r',\n u'MINOHPtexi',\n u'PGPP120pp',\n u'ALATA_L2',\n u'FEOXAMtonex',\n u'FMETTRS',\n u'GPDDA3pp',\n u'PTRCORNt7pp',\n u'NTPP9',\n u'NTPP8',\n u'NTPP7',\n u'NTPP6',\n u'NTPP5',\n u'NTPP4',\n u'NTPP3',\n u'NTPP2',\n u'EX_mincyc_e',\n u'GUR1PPpp',\n u'FCLPA',\n u'F6Pt6_2pp',\n u'EX_etoh_e',\n u'MAN6PI',\n u'EX_but_e',\n u'EX_galur_e',\n u'3HAD100',\n u'HPPPNDO',\n u'AMPMS2',\n u'DMSOR2pp',\n u'EX_h_e',\n u'CHLt2pp',\n u'EX_pyr_e',\n u'HIStex',\n u'EX_nh4_e',\n u'DINStex',\n u'EX_cu_e',\n u'SULFACtex',\n u'DRPA',\n u'DSBDR',\n u'EX_ttrcyc_e',\n u'OCTAtex',\n u'ACPPAT161',\n u'ACPPAT160',\n u'G1PTT',\n u'CD2tex',\n u'GALT1',\n u'URAtex',\n u'AHCYSNS',\n u'NNATr',\n u'EX_LalaDgluMdap_e',\n u'ME1',\n u'PE161abcpp',\n u'EAR141y',\n u'EAR141x',\n u'DPR',\n u'CRNCAL2',\n u'EX_gdp_e',\n u'PPBNGS',\n u'3HAD80',\n u'SULFACabcpp',\n u'MLTGY3pp',\n u'NHFRBO',\n u'THMDt2pp_copy2',\n u'HISTRS',\n u'U23GAAT',\n u'CBPS',\n u'MALDt2_2pp',\n u'AGM3PA',\n u'AGM3PH',\n u'TMDK1',\n u'LPLIPAL1A160pp',\n u'PGP140abcpp',\n u'PHYTSpp',\n u'12DGR141tipp',\n u'EX_gly_e',\n u'LPLIPAL2ATG161',\n u'LPLIPAL2ATG160',\n u'EX_orn_e',\n u'ACOAD5f',\n u'ILEtex',\n u'HOMt2pp',\n u'LPLIPAL2ATE181',\n u'DHFS',\n u'SUCMALtpp',\n u'NH4tpp',\n u'VALTA',\n u'MPTSS',\n u'TMAOR1',\n u'R5PP',\n u'OGMEACPD',\n u'LPLIPAL2A120',\n u'CFAS160G',\n u'CFAS160E',\n u'ADK4',\n u'ADK3',\n u'ADK1',\n u'HXAND',\n u'EX_sucr_e',\n u'PLIPA2E141pp',\n u'OGMEACPR',\n u'OGMEACPS',\n u'GLYALDtpp',\n u'FEROpp',\n u'EX_rmn_e',\n u'INSt2pp_copy1',\n u'PLIPA1G161pp',\n u'EX_gal_e',\n u'APG3PAT180',\n u'LALALGLUtpp',\n u'L_LACD3',\n u'PA161abcpp',\n u'PGPP141',\n u'PGPP140',\n u'EX_succ_e',\n u'EX_acmana_e',\n u'EX_feoxam_e',\n u'EX_metsox_S__L_e',\n u'UAAGDS',\n u'GLCP2',\n u'EX_fusa_e',\n u'M1PD',\n u'EX_fru_e',\n u'G3PCabcpp',\n u'DUTPDP',\n u'GALCTtex',\n u'GMPtex',\n u'TUNGStex',\n u'EX_g3ps_e',\n u'ACNAMt2pp',\n u'FMNRx2',\n u'O16AT',\n u'DSBAO2',\n u'DSBAO1',\n u'EX_g3pi_e',\n u'EX_enter_e',\n u'MINCYCtex',\n u'SO3tex',\n u'PGCD',\n u'EX_cu2_e',\n u'3OXCOAT',\n u'DMSOR1pp',\n u'PLIPA1E161pp',\n u'EX_hacolipa_e',\n u'2AGPE161tipp',\n u'METDtex',\n u'TMAOtex',\n u'CYANtex',\n u'EX_acgam1p_e',\n u'APG3PAT161',\n u'APG3PAT160',\n u'PGPP180pp',\n u'EX_malttr_e',\n u'PDE4',\n u'PDE1',\n u'O16A4COLIPAabctex',\n u'CYTK1',\n u'CYTK2',\n u'PHEtex',\n u'IMPtex',\n u'ECA4OALpp',\n u'O16AP2pp',\n u'NODOy',\n u'2AGPE160tipp',\n u'KDOPS',\n u'GLUt4pp',\n u'SERt2rpp',\n u'H2tpp',\n u'DCTPD',\n u'EX_mnl_e',\n u'ZN2tpp',\n u'CLPNS140pp',\n u'GLYC2Pabcpp',\n u'EX_23ccmp_e',\n u'GDMANE',\n u'ENO',\n u'DHMPTR',\n u'2AGPG160tipp',\n u'EX_man_e',\n u'3PEPTabcpp',\n u'G1SAT',\n u'FADRx',\n u'MSO3tex',\n u'MCTP1App',\n u'LIPACabcpp',\n u'12DGR140tipp',\n u'ACOAD6f',\n u'IDONtex',\n u'FDMO4',\n u'EX_dad_2_e',\n u'MNNH',\n u'DTARTD',\n u'DNTPPA',\n u'S7PI',\n u'XYLt2pp',\n u'PETNT161pp',\n u'RBK_L1',\n u'UAGAAT',\n u'LYSDC',\n u'ADNCYC',\n u'QUIN2tpp',\n u'CRNt7pp',\n u'GALCTNLtex',\n u'AMPTASECG',\n u'PDH',\n u'ALLtex',\n u'GAM6Pt6_2pp',\n u'GALUi',\n u'PYRtex',\n u'CLPNH181pp',\n u'NI2tpp',\n u'SELtex',\n u'I4FE4ST',\n u'I4FE4SR',\n u'EX_mal__D_e',\n u'LPLIPAL1G180pp',\n u'O16AP3pp',\n u'EX_glyc3p_e',\n u'NADH17pp',\n u'UPPRT',\n u'NTD1pp',\n u'I2FE2SS2',\n u'FEENTERR1',\n u'FEENTERR2',\n u'FEENTERR3',\n u'FECRMR1',\n u'FECRMR2',\n u'FECRMR3',\n u'APH180',\n u'APH181',\n u'EX_34dhpac_e',\n u'23PDE2pp',\n u'UPLA4FNF',\n u'SUCptspp',\n u'UDPGPpp',\n u'POAACR',\n u'PLIPA1A120pp',\n u'APH160',\n u'APH161',\n u'EX_cbl1_e',\n u'BUTtex',\n u'HG2tex',\n u'MOBDtex',\n u'LPLIPAL2E120',\n u'FACOAE120',\n u'AACPS4',\n u'AACPS5',\n u'AACPS6',\n u'AACPS1',\n u'BTS5',\n u'AACPS3',\n u'XMPtex',\n u'L_LACt2rpp',\n u'ACCOAL',\n u'FORtppi',\n u'EX_xtsn_e',\n u'ACCOAC',\n u'NMNAT',\n u'AKGDH',\n u'EX_thm_e',\n u'MALS',\n u'GALCTND',\n u'TYRt2rpp',\n u'NADH18pp',\n u'EX_gsn_e',\n u'EX_agm_e',\n u'EX_trp__L_e',\n u'UDCPDPS',\n u'MMETtex',\n u'COLIPAKpp',\n u'HSK',\n u'EX_co2_e',\n u'METSOX2abcpp',\n u'EX_ptrc_e',\n u'RMNtpp',\n u'PPGPPDP',\n u'PLIPA2E180pp',\n u'RFAMPtex',\n u'3OAR100',\n u'OCTDPS',\n u'H2Otex',\n u'LIPAHT2ex',\n u'EX_glcur_e',\n u'TRPS1',\n u'MALt2_3pp',\n u'MALTPTtexi',\n u'SERTRS2',\n u'DHAtpp',\n u'GPDDA2pp',\n u'O16GALFT',\n u'CPGNUtpp',\n u'BMOGDS1',\n u'EX_4hoxpacd_e',\n u'EX_glyc__R_e',\n u'EX_man6p_e',\n u'GLYCLTt4pp',\n u'FBA3',\n u'MDDCP1pp',\n u'FACOAL60t2pp',\n u'CYTDH',\n u'EX_mmet_e',\n u'EX_colipa_e',\n u'2AGPA180tipp',\n u'EX_3ump_e',\n u'AGM4PCPpp',\n u'EX_pi_e',\n u'EX_dopa_e',\n u'PAPA140',\n u'PAPA141',\n u'5DGLCNtex',\n u'ALLTNtex',\n u'CU2tpp',\n u'G3PCtex',\n u'QMO3',\n u'QMO2',\n u'PAPA120pp',\n u'ANPRT',\n u'EX_glyald_e',\n u'EX_din_e',\n u'EX_hdcea_e',\n u'3HAD120',\n u'ARGDCpp',\n u'DAGK120',\n u'PYDXtpp',\n u'CSNt2pp',\n u'SUCCt2_2pp',\n u'NTD5pp',\n u'EX_glyc_e',\n u'PAPA160pp',\n u'EX_ddca_e',\n u'EX_eca4colipa_e',\n u'GARFT',\n u'G3PT',\n u'GLYCAtex',\n u'ADOCBIK',\n u'MALTHXabcpp',\n u'EX_ala__L_e',\n u'2AGPG161tipp',\n u'TARTRDtex',\n u'GDPDPK',\n u'GLCP',\n u'DDPGALA',\n u'PLIPA2G141pp',\n u'G3PEtex',\n u'LPLIPAL1A161pp',\n u'CYStex',\n u'FACOAL161t2pp',\n u'UACMAMO',\n u'THRA2',\n u'O2tpp',\n u'ARBTNtonex',\n u'ASO3tex',\n u'INSH',\n u'PLIPA2A120pp',\n u'TYRPtex',\n u'PYRt2rpp',\n u'GND',\n u'GNK',\n u'NADH10',\n u'GLCNt2rpp',\n u'OP4ENH',\n u'CLPNS180pp',\n u'PLIPA2A161pp',\n u'QUIN2tex',\n u'PLIPA2E140pp',\n u'PYAM5PO',\n u'EX_quin_e',\n u'GLYtex',\n u'SELtpp',\n u'ALAALAD',\n u'EX_pydxn_e',\n u'DADK',\n u'2AGPE140tipp',\n u'LPLIPAL2ATG141',\n u'LPLIPAL2ATG140',\n u'DADA',\n u'ALAALAr',\n u'THMDt2pp_copy1',\n u'PSSA141',\n u'PSSA140',\n u'2AGPEAT120',\n u'PA180abcpp',\n u'2AGPA140tipp',\n u'MALt2_2pp',\n u'NTPP10',\n u'PTRCtex',\n u'FORtex',\n u'NOVBCNtex',\n u'GLYBabcpp',\n u'LPLIPAL2A140',\n u'LPLIPAL2A141',\n u'GLCRD',\n u'NO3tex',\n u'EX_val__L_e',\n u'TYMtex',\n u'EAR161y',\n u'EAR161x',\n ...}"
     },
     "metadata": {},
     "execution_count": 17
    }
   ],
   "source": [
    "set(total_data)"
   ]
  },
  {
   "cell_type": "code",
   "execution_count": null,
   "metadata": {},
   "outputs": [],
   "source": []
  }
 ]
}