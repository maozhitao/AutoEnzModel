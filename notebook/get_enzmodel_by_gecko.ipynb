{
 "cells": [
  {
   "cell_type": "code",
   "execution_count": null,
   "metadata": {
    "collapsed": true
   },
   "outputs": [],
   "source": [
    "# IMPORTS\n",
    "# External modules\n",
    "import cobra\n",
    "# Internal modules\n",
    "import sys\n",
    "sys.path.append(r'./code/autopacmen/')\n",
    "\n",
    "from submodules.create_combined_kcat_database import create_combined_kcat_database\n",
    "from submodules.create_gecko_model_reaction_wise import create_gecko_model_reaction_wise_with_sbml\n",
    "from submodules.get_initial_spreadsheets import get_initial_spreadsheets_with_sbml\n",
    "from submodules.get_protein_mass_mapping import get_protein_mass_mapping_with_sbml\n",
    "from submodules.get_reactions_kcat_mapping import get_reactions_kcat_mapping\n",
    "from submodules.parse_bigg_metabolites_file import parse_bigg_metabolites_file\n",
    "from submodules.parse_brenda_textfile import parse_brenda_textfile\n",
    "from submodules.parse_brenda_json_for_model import parse_brenda_json_for_model\n",
    "from submodules.parse_sabio_rk_for_model import parse_sabio_rk_for_model_with_sbml"
   ]
  },
  {
   "cell_type": "code",
   "execution_count": null,
   "metadata": {},
   "outputs": [],
   "source": [
    "# Step 1\n",
    "bigg_metabolites_file_path = \"../data/download/bigg_models_metabolites.txt\"\n",
    "json_output_folder = \"../analysis/autopacmen/ecoli_iml1515_GECKO/\"\n",
    "parse_bigg_metabolites_file(bigg_metabolites_file_path, json_output_folder)\n"
   ]
  },
  {
   "cell_type": "code",
   "execution_count": null,
   "metadata": {},
   "outputs": [],
   "source": [
    "# Step 2\n",
    "brenda_textfile_path = \"../data/download/brenda_download.txt\"\n",
    "bigg_metabolites_json_folder = \"../analysis/autopacmen/ecoli_iml1515_GECKO/\"\n",
    "json_output_path = \"../analysis/autopacmen/ecoli_iml1515_GECKO/kcat_database_brenda.json\"\n",
    "parse_brenda_textfile(brenda_textfile_path, bigg_metabolites_json_folder, json_output_path)"
   ]
  },
  {
   "cell_type": "code",
   "execution_count": null,
   "metadata": {},
   "outputs": [],
   "source": [
    "# Step 3\n",
    "sbml_path = \"../data/model/iML1515_new.xml\"\n",
    "brenda_json_path = \"../analysis/autopacmen/ecoli_iml1515_GECKO/kcat_database_brenda.json\"\n",
    "output_json_path = \"../analysis/autopacmen/ecoli_iml1515_GECKO/kcat_database_brenda_for_model.json\"\n",
    "parse_brenda_json_for_model(sbml_path, brenda_json_path, output_json_path)"
   ]
  },
  {
   "cell_type": "code",
   "execution_count": null,
   "metadata": {},
   "outputs": [],
   "source": [
    "# Step 4\n",
    "# it is hard to succss in first run\n",
    "sbml_path = \"../data/model/iML1515_new.xml\"\n",
    "json_output_path = \"../analysis/autopacmen/ecoli_iml1515_GECKO/kcat_database_sabio_rk.json\"\n",
    "bigg_id_name_mapping_path = \"../analysis/autopacmen/ecoli_iml1515_GECKO/bigg_id_name_mapping.json\"\n",
    "parse_sabio_rk_for_model_with_sbml(sbml_path, json_output_path, bigg_id_name_mapping_path)"
   ]
  },
  {
   "cell_type": "code",
   "execution_count": null,
   "metadata": {},
   "outputs": [],
   "source": [
    "# Step 5\n",
    "sabio_rk_kcat_database_path = \"../analysis/autopacmen/ecoli_iml1515_GECKO/kcat_database_sabio_rk.json\"\n",
    "brenda_kcat_database_path = \"../analysis/autopacmen/ecoli_iml1515_GECKO/kcat_database_brenda_for_model.json\"\n",
    "output_path = \"../analysis/autopacmen/ecoli_iml1515_GECKO/kcat_database_combined.json\"\n",
    "create_combined_kcat_database(sabio_rk_kcat_database_path, brenda_kcat_database_path, output_path)\n"
   ]
  },
  {
   "cell_type": "code",
   "execution_count": null,
   "metadata": {},
   "outputs": [],
   "source": [
    "# Step 6\n",
    "#get_reactions_kcat_mapping.py need some change line61 ,line130,line197-199,line 377\n",
    "#gene_id_data_mapping.json需要修改反应SHK3Dr 为SHK3Dr_forward\n",
    "sbml_path = \"../data/model/iML1515_new.xml\"\n",
    "project_folder = \"../analysis/autopacmen/ecoli_iml1515_GECKO/\"\n",
    "project_name = \"iml1515\"\n",
    "organism = \"Escherichia coli\"\n",
    "kcat_database_path = \"../analysis/autopacmen/ecoli_iml1515_GECKO/kcat_database_combined.json\"\n",
    "protein_kcat_database_path = \"../data/gene_id_data_mapping.json\"\n",
    "get_reactions_kcat_mapping(sbml_path, project_folder, project_name, organism, kcat_database_path, protein_kcat_database_path,'median')\n",
    "ecoli_iml1515_GECKO"
   ]
  },
  {
   "cell_type": "code",
   "execution_count": null,
   "metadata": {},
   "outputs": [],
   "source": [
    "# Step 7\n",
    "input_sbml =  \"../data/model/iML1515_new.xml\"\n",
    "project_folder = \"../analysis/autopacmen/ecoli_iml1515_GECKO/\"\n",
    "project_name = \"iml1515\"\n",
    "get_initial_spreadsheets_with_sbml(input_sbml, project_folder, project_name)"
   ]
  },
  {
   "cell_type": "code",
   "execution_count": null,
   "metadata": {},
   "outputs": [],
   "source": [
    "# Step 8\n",
    "input_sbml =  \"../data/model/iML1515_new.xml\"\n",
    "project_folder = \"../analysis/autopacmen/ecoli_iml1515_GECKO/\"\n",
    "project_name = \"iml1515\"\n",
    "get_protein_mass_mapping_with_sbml(input_sbml, project_folder, project_name)"
   ]
  },
  {
   "cell_type": "code",
   "execution_count": null,
   "metadata": {},
   "outputs": [],
   "source": [
    "# Step 9\n",
    "input_sbml = \"../data/model/iML1515_new.xml\"\n",
    "output_sbml = \"iML1515_GECKO_20201129.xml\"\n",
    "project_folder = \"../analysis/autopacmen/ecoli_iml1515_GECKO/\"\n",
    "project_name = \"iml1515\"\n",
    "EXCLUDED_REACTIONS = []\n",
    "\n",
    "create_gecko_model_reaction_wise_with_sbml(input_sbml, output_sbml, project_folder, project_name, excluded_reactions)"
   ]
  },
  {
   "cell_type": "code",
   "execution_count": null,
   "metadata": {},
   "outputs": [],
   "source": []
  }
 ],
 "metadata": {
  "kernelspec": {
   "display_name": "python3_cobra",
   "language": "python",
   "name": "python3_cobra"
  },
  "language_info": {
   "codemirror_mode": {
    "name": "ipython",
    "version": 3
   },
   "file_extension": ".py",
   "mimetype": "text/x-python",
   "name": "python",
   "nbconvert_exporter": "python",
   "pygments_lexer": "ipython3",
   "version": "3.8.3"
  }
 },
 "nbformat": 4,
 "nbformat_minor": 2
}