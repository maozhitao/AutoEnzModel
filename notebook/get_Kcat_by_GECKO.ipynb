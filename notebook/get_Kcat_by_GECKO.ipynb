{
 "metadata": {
  "language_info": {
   "codemirror_mode": {
    "name": "ipython",
    "version": 3
   },
   "file_extension": ".py",
   "mimetype": "text/x-python",
   "name": "python",
   "nbconvert_exporter": "python",
   "pygments_lexer": "ipython3",
   "version": "2.7.17-final"
  },
  "orig_nbformat": 2,
  "kernelspec": {
   "name": "Python 2.7.17 64-bit",
   "display_name": "Python 2.7.17 64-bit",
   "metadata": {
    "interpreter": {
     "hash": "82c54b69648272bd3b9a668a2249f51f94938530f67028498501cae99fe51ef4"
    }
   }
  }
 },
 "nbformat": 4,
 "nbformat_minor": 2,
 "cells": [
  {
   "cell_type": "markdown",
   "metadata": {},
   "source": [
    "# # retrieveBRENDA\n",
    "# Acces the web client and retrieves all EC data from BRENDA. Creates files with BRENDA output for all organisms and EC numbers for which there is data."
   ]
  },
  {
   "cell_type": "code",
   "execution_count": 2,
   "metadata": {
    "tags": []
   },
   "outputs": [],
   "source": [
    "import cobra\n",
    "import sys\n",
    "sys.path.append(r'./code/GECKO/')\n",
    "from GECKO_function import *"
   ]
  },
  {
   "cell_type": "code",
   "execution_count": 3,
   "metadata": {},
   "outputs": [],
   "source": [
    "#INPUTS:\n",
    "#1) Path in which you wish to store all BRENDA queries:\n",
    "output_path = '../data/Brenda/'\n",
    "#2) Last field processed (if the program was interrupted), e.g. 'KM'. If you\n",
    "#   want to start from scratch, leave empty:\n",
    "last_field = ''\n",
    "#3) Last EC number processed (if the program was interrupted), e.g. '1.2.3.4'.\n",
    "#   If you want to start from scratch, leave empty:\n",
    "last_EC = ''\n",
    "#4) E-mail in BRENDA:\n",
    "email = 'mao_zt@tib.cas.cn'\n",
    "#5) Password in BRENDA:\n",
    "password = 'jxphmzt258'\n",
    "#123360\n",
    "################################################################################"
   ]
  },
  {
   "cell_type": "code",
   "execution_count": 5,
   "metadata": {},
   "outputs": [],
   "source": [
    "import os\n",
    "import string\n",
    "import hashlib\n",
    "from SOAPpy import SOAPProxy ## for usage without WSDL file\n",
    "import time\n",
    "\n",
    "if not os.path.exists(output_path):\n",
    "    os.makedirs(output_path)  \n",
    "\n",
    "#20200909\n",
    "#endpointURL = 'http://www.brenda-enzymes.org/soap/brenda_server.php'\n",
    "endpointURL = 'https://www.brenda-enzymes.org/soap/brenda_server.php'\n",
    "client      = SOAPProxy(endpointURL)\n",
    "password    = hashlib.sha256(password).hexdigest()\n",
    "credentials = email + ',' + password\n",
    "\n",
    "#Information to retrieve: km, M.W., pathway, sequence, specific activity and kcat.\n",
    "fields = ['KM','MW','PATH','SA','KCAT']\n",
    "\n",
    "#Loop that retrieves all fields. Starts by the last one queried:\n",
    "start = 0\n",
    "for field in fields:\n",
    "    if not start and (field == last_field or last_field == ''):\n",
    "        start = 1\n",
    "    if start:\n",
    "        retrieveBRENDA(field,last_EC,output_path)\n"
   ]
  },
  {
   "source": [
    "# # createECfiles\n",
    "# Reads all data in kinetic_data and creates all EC files."
   ],
   "cell_type": "markdown",
   "metadata": {}
  },
  {
   "cell_type": "code",
   "execution_count": 4,
   "metadata": {},
   "outputs": [],
   "source": [
    "import sys\n",
    "sys.path.append(r'../code/')\n",
    "from GECKO_function import *"
   ]
  },
  {
   "cell_type": "code",
   "execution_count": 13,
   "metadata": {
    "tags": [
     "outputPrepend"
    ]
   },
   "outputs": [
    {
     "output_type": "stream",
     "name": "stdout",
     "text": "cesfully constructed EC5.3.3.12 file.\nSuccesfully constructed EC5.3.3.13 file.\nSuccesfully constructed EC5.3.3.14 file.\nSuccesfully constructed EC5.3.3.16 file.\nSuccesfully constructed EC5.3.3.17 file.\nSuccesfully constructed EC5.3.3.18 file.\nSuccesfully constructed EC5.3.3.19 file.\nSuccesfully constructed EC5.3.3.1 file.\nSuccesfully constructed EC5.3.3.21 file.\nSuccesfully constructed EC5.3.3.2 file.\nSuccesfully constructed EC5.3.3.3 file.\nSuccesfully constructed EC5.3.3.4 file.\nSuccesfully constructed EC5.3.3.5 file.\nSuccesfully constructed EC5.3.3.6 file.\nSuccesfully constructed EC5.3.3.7 file.\nSuccesfully constructed EC5.3.3.8 file.\nSuccesfully constructed EC5.3.3.9 file.\nSuccesfully constructed EC5.3.3.B2 file.\nSuccesfully constructed EC5.3.3.M5 file.\nSuccesfully constructed EC5.3.4.1 file.\nSuccesfully constructed EC5.3.99.10 file.\nSuccesfully constructed EC5.3.99.11 file.\nSuccesfully constructed EC5.3.99.2 file.\nSuccesfully constructed EC5.3.99.3 file.\nSuccesfully constructed EC5.3.99.4 file.\nSuccesfully constructed EC5.3.99.5 file.\nSuccesfully constructed EC5.3.99.6 file.\nSuccesfully constructed EC5.3.99.7 file.\nSuccesfully constructed EC5.3.99.8 file.\nSuccesfully constructed EC5.3.99.9 file.\nSuccesfully constructed EC5.3.99.M1 file.\nSuccesfully constructed EC5.4.1.3 file.\nSuccesfully constructed EC5.4.1.4 file.\nSuccesfully constructed EC5.4.2.10 file.\nSuccesfully constructed EC5.4.2.11 file.\nSuccesfully constructed EC5.4.2.12 file.\nSuccesfully constructed EC5.4.2.13 file.\nSuccesfully constructed EC5.4.2.2 file.\nSuccesfully constructed EC5.4.2.3 file.\nSuccesfully constructed EC5.4.2.4 file.\nSuccesfully constructed EC5.4.2.5 file.\nSuccesfully constructed EC5.4.2.6 file.\nSuccesfully constructed EC5.4.2.7 file.\nSuccesfully constructed EC5.4.2.8 file.\nSuccesfully constructed EC5.4.2.9 file.\nSuccesfully constructed EC5.4.3.10 file.\nSuccesfully constructed EC5.4.3.11 file.\nSuccesfully constructed EC5.4.3.2 file.\nSuccesfully constructed EC5.4.3.3 file.\nSuccesfully constructed EC5.4.3.5 file.\nSuccesfully constructed EC5.4.3.6 file.\nSuccesfully constructed EC5.4.3.7 file.\nSuccesfully constructed EC5.4.3.8 file.\nSuccesfully constructed EC5.4.4.- file.\nSuccesfully constructed EC5.4.4.1 file.\nSuccesfully constructed EC5.4.4.2 file.\nSuccesfully constructed EC5.4.4.3 file.\nSuccesfully constructed EC5.4.4.4 file.\nSuccesfully constructed EC5.4.4.5 file.\nSuccesfully constructed EC5.4.4.6 file.\nSuccesfully constructed EC5.4.4.8 file.\nSuccesfully constructed EC5.4.99.11 file.\nSuccesfully constructed EC5.4.99.12 file.\nSuccesfully constructed EC5.4.99.13 file.\nSuccesfully constructed EC5.4.99.14 file.\nSuccesfully constructed EC5.4.99.15 file.\nSuccesfully constructed EC5.4.99.16 file.\nSuccesfully constructed EC5.4.99.17 file.\nSuccesfully constructed EC5.4.99.18 file.\nSuccesfully constructed EC5.4.99.19 file.\nSuccesfully constructed EC5.4.99.1 file.\nSuccesfully constructed EC5.4.99.20 file.\nSuccesfully constructed EC5.4.99.23 file.\nSuccesfully constructed EC5.4.99.25 file.\nSuccesfully constructed EC5.4.99.27 file.\nSuccesfully constructed EC5.4.99.28 file.\nSuccesfully constructed EC5.4.99.29 file.\nSuccesfully constructed EC5.4.99.2 file.\nSuccesfully constructed EC5.4.99.30 file.\nSuccesfully constructed EC5.4.99.31 file.\nSuccesfully constructed EC5.4.99.32 file.\nSuccesfully constructed EC5.4.99.33 file.\nSuccesfully constructed EC5.4.99.34 file.\nSuccesfully constructed EC5.4.99.35 file.\nSuccesfully constructed EC5.4.99.36 file.\nSuccesfully constructed EC5.4.99.37 file.\nSuccesfully constructed EC5.4.99.38 file.\nSuccesfully constructed EC5.4.99.39 file.\nSuccesfully constructed EC5.4.99.3 file.\nSuccesfully constructed EC5.4.99.40 file.\nSuccesfully constructed EC5.4.99.41 file.\nSuccesfully constructed EC5.4.99.47 file.\nSuccesfully constructed EC5.4.99.48 file.\nSuccesfully constructed EC5.4.99.49 file.\nSuccesfully constructed EC5.4.99.4 file.\nSuccesfully constructed EC5.4.99.50 file.\nSuccesfully constructed EC5.4.99.52 file.\nSuccesfully constructed EC5.4.99.53 file.\nSuccesfully constructed EC5.4.99.54 file.\nSuccesfully constructed EC5.4.99.55 file.\nSuccesfully constructed EC5.4.99.56 file.\nSuccesfully constructed EC5.4.99.57 file.\nSuccesfully constructed EC5.4.99.58 file.\nSuccesfully constructed EC5.4.99.59 file.\nSuccesfully constructed EC5.4.99.5 file.\nSuccesfully constructed EC5.4.99.60 file.\nSuccesfully constructed EC5.4.99.61 file.\nSuccesfully constructed EC5.4.99.62 file.\nSuccesfully constructed EC5.4.99.63 file.\nSuccesfully constructed EC5.4.99.64 file.\nSuccesfully constructed EC5.4.99.67 file.\nSuccesfully constructed EC5.4.99.7 file.\nSuccesfully constructed EC5.4.99.8 file.\nSuccesfully constructed EC5.4.99.9 file.\nSuccesfully constructed EC5.4.99.B22 file.\nSuccesfully constructed EC5.4.99.B2 file.\nSuccesfully constructed EC5.4.99.B4 file.\nSuccesfully constructed EC5.5.1.10 file.\nSuccesfully constructed EC5.5.1.11 file.\nSuccesfully constructed EC5.5.1.12 file.\nSuccesfully constructed EC5.5.1.13 file.\nSuccesfully constructed EC5.5.1.14 file.\nSuccesfully constructed EC5.5.1.15 file.\nSuccesfully constructed EC5.5.1.16 file.\nSuccesfully constructed EC5.5.1.17 file.\nSuccesfully constructed EC5.5.1.18 file.\nSuccesfully constructed EC5.5.1.19 file.\nSuccesfully constructed EC5.5.1.1 file.\nSuccesfully constructed EC5.5.1.20 file.\nSuccesfully constructed EC5.5.1.22 file.\nSuccesfully constructed EC5.5.1.23 file.\nSuccesfully constructed EC5.5.1.24 file.\nSuccesfully constructed EC5.5.1.25 file.\nSuccesfully constructed EC5.5.1.26 file.\nSuccesfully constructed EC5.5.1.27 file.\nSuccesfully constructed EC5.5.1.28 file.\nSuccesfully constructed EC5.5.1.2 file.\nSuccesfully constructed EC5.5.1.31 file.\nSuccesfully constructed EC5.5.1.32 file.\nSuccesfully constructed EC5.5.1.33 file.\nSuccesfully constructed EC5.5.1.34 file.\nSuccesfully constructed EC5.5.1.3 file.\nSuccesfully constructed EC5.5.1.4 file.\nSuccesfully constructed EC5.5.1.5 file.\nSuccesfully constructed EC5.5.1.6 file.\nSuccesfully constructed EC5.5.1.7 file.\nSuccesfully constructed EC5.5.1.8 file.\nSuccesfully constructed EC5.5.1.9 file.\nSuccesfully constructed EC5.5.1.B6 file.\nSuccesfully constructed EC5.5.1.M10 file.\nSuccesfully constructed EC5.5.1.M11 file.\nSuccesfully constructed EC5.5.1.M8 file.\nSuccesfully constructed EC5.5.1.M9 file.\nSuccesfully constructed EC5.5.1.v file.\nSuccesfully constructed EC5.6.1.1 file.\nSuccesfully constructed EC5.6.1.2 file.\nSuccesfully constructed EC5.6.1.3 file.\nSuccesfully constructed EC5.6.1.4 file.\nSuccesfully constructed EC5.6.1.5 file.\nSuccesfully constructed EC5.6.1.6 file.\nSuccesfully constructed EC5.6.1.7 file.\nSuccesfully constructed EC5.6.1.8 file.\nSuccesfully constructed EC5.6.1.9 file.\nSuccesfully constructed EC5.6.2.1 file.\nSuccesfully constructed EC5.6.2.2 file.\nSuccesfully constructed EC5.99.1.4 file.\nSuccesfully constructed EC6.1.1.10 file.\nSuccesfully constructed EC6.1.1.11 file.\nSuccesfully constructed EC6.1.1.12 file.\nSuccesfully constructed EC6.1.1.13 file.\nSuccesfully constructed EC6.1.1.14 file.\nSuccesfully constructed EC6.1.1.15 file.\nSuccesfully constructed EC6.1.1.16 file.\nSuccesfully constructed EC6.1.1.17 file.\nSuccesfully constructed EC6.1.1.18 file.\nSuccesfully constructed EC6.1.1.19 file.\nSuccesfully constructed EC6.1.1.1 file.\nSuccesfully constructed EC6.1.1.20 file.\nSuccesfully constructed EC6.1.1.21 file.\nSuccesfully constructed EC6.1.1.22 file.\nSuccesfully constructed EC6.1.1.23 file.\nSuccesfully constructed EC6.1.1.24 file.\nSuccesfully constructed EC6.1.1.26 file.\nSuccesfully constructed EC6.1.1.27 file.\nSuccesfully constructed EC6.1.1.2 file.\nSuccesfully constructed EC6.1.1.3 file.\nSuccesfully constructed EC6.1.1.4 file.\nSuccesfully constructed EC6.1.1.5 file.\nSuccesfully constructed EC6.1.1.6 file.\nSuccesfully constructed EC6.1.1.7 file.\nSuccesfully constructed EC6.1.1.9 file.\nSuccesfully constructed EC6.1.1.B3 file.\nSuccesfully constructed EC6.1.2.1 file.\nSuccesfully constructed EC6.1.2.2 file.\nSuccesfully constructed EC6.1.3.1 file.\nSuccesfully constructed EC6.2.1.- file.\nSuccesfully constructed EC6.2.1.10 file.\nSuccesfully constructed EC6.2.1.11 file.\nSuccesfully constructed EC6.2.1.12 file.\nSuccesfully constructed EC6.2.1.13 file.\nSuccesfully constructed EC6.2.1.14 file.\nSuccesfully constructed EC6.2.1.15 file.\nSuccesfully constructed EC6.2.1.16 file.\nSuccesfully constructed EC6.2.1.17 file.\nSuccesfully constructed EC6.2.1.18 file.\nSuccesfully constructed EC6.2.1.19 file.\nSuccesfully constructed EC6.2.1.1 file.\nSuccesfully constructed EC6.2.1.20 file.\nSuccesfully constructed EC6.2.1.22 file.\nSuccesfully constructed EC6.2.1.23 file.\nSuccesfully constructed EC6.2.1.24 file.\nSuccesfully constructed EC6.2.1.25 file.\nSuccesfully constructed EC6.2.1.26 file.\nSuccesfully constructed EC6.2.1.27 file.\nSuccesfully constructed EC6.2.1.28 file.\nSuccesfully constructed EC6.2.1.2 file.\nSuccesfully constructed EC6.2.1.30 file.\nSuccesfully constructed EC6.2.1.31 file.\nSuccesfully constructed EC6.2.1.32 file.\nSuccesfully constructed EC6.2.1.33 file.\nSuccesfully constructed EC6.2.1.34 file.\nSuccesfully constructed EC6.2.1.35 file.\nSuccesfully constructed EC6.2.1.36 file.\nSuccesfully constructed EC6.2.1.37 file.\nSuccesfully constructed EC6.2.1.38 file.\nSuccesfully constructed EC6.2.1.39 file.\nSuccesfully constructed EC6.2.1.3 file.\nSuccesfully constructed EC6.2.1.40 file.\nSuccesfully constructed EC6.2.1.41 file.\nSuccesfully constructed EC6.2.1.42 file.\nSuccesfully constructed EC6.2.1.43 file.\nSuccesfully constructed EC6.2.1.44 file.\nSuccesfully constructed EC6.2.1.45 file.\nSuccesfully constructed EC6.2.1.46 file.\nSuccesfully constructed EC6.2.1.47 file.\nSuccesfully constructed EC6.2.1.48 file.\nSuccesfully constructed EC6.2.1.4 file.\nSuccesfully constructed EC6.2.1.52 file.\nSuccesfully constructed EC6.2.1.53 file.\nSuccesfully constructed EC6.2.1.54 file.\nSuccesfully constructed EC6.2.1.55 file.\nSuccesfully constructed EC6.2.1.56 file.\nSuccesfully constructed EC6.2.1.58 file.\nSuccesfully constructed EC6.2.1.5 file.\nSuccesfully constructed EC6.2.1.60 file.\nSuccesfully constructed EC6.2.1.61 file.\nSuccesfully constructed EC6.2.1.62 file.\nSuccesfully constructed EC6.2.1.6 file.\nSuccesfully constructed EC6.2.1.7 file.\nSuccesfully constructed EC6.2.1.8 file.\nSuccesfully constructed EC6.2.1.9 file.\nSuccesfully constructed EC6.2.1.B10 file.\nSuccesfully constructed EC6.2.1.B11 file.\nSuccesfully constructed EC6.2.1.B13 file.\nSuccesfully constructed EC6.2.1.B1 file.\nSuccesfully constructed EC6.2.1.B3 file.\nSuccesfully constructed EC6.2.1.B4 file.\nSuccesfully constructed EC6.2.1.B5 file.\nSuccesfully constructed EC6.2.1.M2 file.\nSuccesfully constructed EC6.2.1.M31 file.\nSuccesfully constructed EC6.2.1.M32 file.\nSuccesfully constructed EC6.2.1.M34 file.\nSuccesfully constructed EC6.2.1.M35 file.\nSuccesfully constructed EC6.2.1.M4 file.\nSuccesfully constructed EC6.2.1.ad file.\nSuccesfully constructed EC6.2.1.ae file.\nSuccesfully constructed EC6.2.1.af file.\nSuccesfully constructed EC6.2.1.al file.\nSuccesfully constructed EC6.2.1.r file.\nSuccesfully constructed EC6.3.1.10 file.\nSuccesfully constructed EC6.3.1.11 file.\nSuccesfully constructed EC6.3.1.12 file.\nSuccesfully constructed EC6.3.1.13 file.\nSuccesfully constructed EC6.3.1.14 file.\nSuccesfully constructed EC6.3.1.15 file.\nSuccesfully constructed EC6.3.1.17 file.\nSuccesfully constructed EC6.3.1.18 file.\nSuccesfully constructed EC6.3.1.19 file.\nSuccesfully constructed EC6.3.1.1 file.\nSuccesfully constructed EC6.3.1.20 file.\nSuccesfully constructed EC6.3.1.2 file.\nSuccesfully constructed EC6.3.1.4 file.\nSuccesfully constructed EC6.3.1.5 file.\nSuccesfully constructed EC6.3.1.6 file.\nSuccesfully constructed EC6.3.1.7 file.\nSuccesfully constructed EC6.3.1.8 file.\nSuccesfully constructed EC6.3.1.9 file.\nSuccesfully constructed EC6.3.2.10 file.\nSuccesfully constructed EC6.3.2.11 file.\nSuccesfully constructed EC6.3.2.12 file.\nSuccesfully constructed EC6.3.2.13 file.\nSuccesfully constructed EC6.3.2.14 file.\nSuccesfully constructed EC6.3.2.16 file.\nSuccesfully constructed EC6.3.2.17 file.\nSuccesfully constructed EC6.3.2.18 file.\nSuccesfully constructed EC6.3.2.1 file.\nSuccesfully constructed EC6.3.2.23 file.\nSuccesfully constructed EC6.3.2.24 file.\nSuccesfully constructed EC6.3.2.25 file.\nSuccesfully constructed EC6.3.2.26 file.\nSuccesfully constructed EC6.3.2.29 file.\nSuccesfully constructed EC6.3.2.2 file.\nSuccesfully constructed EC6.3.2.30 file.\nSuccesfully constructed EC6.3.2.31 file.\nSuccesfully constructed EC6.3.2.32 file.\nSuccesfully constructed EC6.3.2.33 file.\nSuccesfully constructed EC6.3.2.34 file.\nSuccesfully constructed EC6.3.2.35 file.\nSuccesfully constructed EC6.3.2.36 file.\nSuccesfully constructed EC6.3.2.37 file.\nSuccesfully constructed EC6.3.2.38 file.\nSuccesfully constructed EC6.3.2.39 file.\nSuccesfully constructed EC6.3.2.3 file.\nSuccesfully constructed EC6.3.2.40 file.\nSuccesfully constructed EC6.3.2.41 file.\nSuccesfully constructed EC6.3.2.42 file.\nSuccesfully constructed EC6.3.2.43 file.\nSuccesfully constructed EC6.3.2.44 file.\nSuccesfully constructed EC6.3.2.45 file.\nSuccesfully constructed EC6.3.2.46 file.\nSuccesfully constructed EC6.3.2.47 file.\nSuccesfully constructed EC6.3.2.48 file.\nSuccesfully constructed EC6.3.2.49 file.\nSuccesfully constructed EC6.3.2.4 file.\nSuccesfully constructed EC6.3.2.50 file.\nSuccesfully constructed EC6.3.2.51 file.\nSuccesfully constructed EC6.3.2.52 file.\nSuccesfully constructed EC6.3.2.53 file.\nSuccesfully constructed EC6.3.2.54 file.\nSuccesfully constructed EC6.3.2.55 file.\nSuccesfully constructed EC6.3.2.56 file.\nSuccesfully constructed EC6.3.2.57 file.\nSuccesfully constructed EC6.3.2.58 file.\nSuccesfully constructed EC6.3.2.5 file.\nSuccesfully constructed EC6.3.2.6 file.\nSuccesfully constructed EC6.3.2.7 file.\nSuccesfully constructed EC6.3.2.8 file.\nSuccesfully constructed EC6.3.2.9 file.\nSuccesfully constructed EC6.3.2.B11 file.\nSuccesfully constructed EC6.3.2.B15 file.\nSuccesfully constructed EC6.3.2.B19 file.\nSuccesfully constructed EC6.3.2.B24 file.\nSuccesfully constructed EC6.3.2.B2 file.\nSuccesfully constructed EC6.3.2.B3 file.\nSuccesfully constructed EC6.3.2.M13 file.\nSuccesfully constructed EC6.3.2.M1 file.\nSuccesfully constructed EC6.3.2.M4 file.\nSuccesfully constructed EC6.3.2.z file.\nSuccesfully constructed EC6.3.3.- file.\nSuccesfully constructed EC6.3.3.1 file.\nSuccesfully constructed EC6.3.3.2 file.\nSuccesfully constructed EC6.3.3.3 file.\nSuccesfully constructed EC6.3.3.4 file.\nSuccesfully constructed EC6.3.3.5 file.\nSuccesfully constructed EC6.3.3.6 file.\nSuccesfully constructed EC6.3.3.7 file.\nSuccesfully constructed EC6.3.4.10 file.\nSuccesfully constructed EC6.3.4.11 file.\nSuccesfully constructed EC6.3.4.12 file.\nSuccesfully constructed EC6.3.4.13 file.\nSuccesfully constructed EC6.3.4.14 file.\nSuccesfully constructed EC6.3.4.15 file.\nSuccesfully constructed EC6.3.4.16 file.\nSuccesfully constructed EC6.3.4.17 file.\nSuccesfully constructed EC6.3.4.18 file.\nSuccesfully constructed EC6.3.4.19 file.\nSuccesfully constructed EC6.3.4.20 file.\nSuccesfully constructed EC6.3.4.21 file.\nSuccesfully constructed EC6.3.4.22 file.\nSuccesfully constructed EC6.3.4.23 file.\nSuccesfully constructed EC6.3.4.24 file.\nSuccesfully constructed EC6.3.4.2 file.\nSuccesfully constructed EC6.3.4.3 file.\nSuccesfully constructed EC6.3.4.4 file.\nSuccesfully constructed EC6.3.4.5 file.\nSuccesfully constructed EC6.3.4.6 file.\nSuccesfully constructed EC6.3.4.7 file.\nSuccesfully constructed EC6.3.4.8 file.\nSuccesfully constructed EC6.3.4.9 file.\nSuccesfully constructed EC6.3.5.10 file.\nSuccesfully constructed EC6.3.5.11 file.\nSuccesfully constructed EC6.3.5.12 file.\nSuccesfully constructed EC6.3.5.13 file.\nSuccesfully constructed EC6.3.5.1 file.\nSuccesfully constructed EC6.3.5.2 file.\nSuccesfully constructed EC6.3.5.3 file.\nSuccesfully constructed EC6.3.5.4 file.\nSuccesfully constructed EC6.3.5.5 file.\nSuccesfully constructed EC6.3.5.6 file.\nSuccesfully constructed EC6.3.5.7 file.\nSuccesfully constructed EC6.3.5.9 file.\nSuccesfully constructed EC6.3.5.M1 file.\nSuccesfully constructed EC6.3.5.M2 file.\nSuccesfully constructed EC6.4.1.1 file.\nSuccesfully constructed EC6.4.1.2 file.\nSuccesfully constructed EC6.4.1.3 file.\nSuccesfully constructed EC6.4.1.4 file.\nSuccesfully constructed EC6.4.1.5 file.\nSuccesfully constructed EC6.4.1.6 file.\nSuccesfully constructed EC6.4.1.7 file.\nSuccesfully constructed EC6.4.1.8 file.\nSuccesfully constructed EC6.4.1.9 file.\nSuccesfully constructed EC6.5.1.1 file.\nSuccesfully constructed EC6.5.1.2 file.\nSuccesfully constructed EC6.5.1.3 file.\nSuccesfully constructed EC6.5.1.4 file.\nSuccesfully constructed EC6.5.1.5 file.\nSuccesfully constructed EC6.5.1.6 file.\nSuccesfully constructed EC6.5.1.7 file.\nSuccesfully constructed EC6.5.1.8 file.\nSuccesfully constructed EC6.5.1.B1 file.\nSuccesfully constructed EC6.5.1.e file.\nSuccesfully constructed EC6.6.1.1 file.\nSuccesfully constructed EC6.6.1.2 file.\nSuccesfully constructed EC7.1.1.1 file.\nSuccesfully constructed EC7.1.1.2 file.\nSuccesfully constructed EC7.1.1.3 file.\nSuccesfully constructed EC7.1.1.4 file.\nSuccesfully constructed EC7.1.1.5 file.\nSuccesfully constructed EC7.1.1.6 file.\nSuccesfully constructed EC7.1.1.7 file.\nSuccesfully constructed EC7.1.1.8 file.\nSuccesfully constructed EC7.1.1.9 file.\nSuccesfully constructed EC7.1.2.1 file.\nSuccesfully constructed EC7.1.2.2 file.\nSuccesfully constructed EC7.1.3.1 file.\nSuccesfully constructed EC7.2.1.1 file.\nSuccesfully constructed EC7.2.1.2 file.\nSuccesfully constructed EC7.2.1.3 file.\nSuccesfully constructed EC7.2.2.10 file.\nSuccesfully constructed EC7.2.2.11 file.\nSuccesfully constructed EC7.2.2.12 file.\nSuccesfully constructed EC7.2.2.13 file.\nSuccesfully constructed EC7.2.2.14 file.\nSuccesfully constructed EC7.2.2.15 file.\nSuccesfully constructed EC7.2.2.16 file.\nSuccesfully constructed EC7.2.2.18 file.\nSuccesfully constructed EC7.2.2.19 file.\nSuccesfully constructed EC7.2.2.1 file.\nSuccesfully constructed EC7.2.2.21 file.\nSuccesfully constructed EC7.2.2.2 file.\nSuccesfully constructed EC7.2.2.3 file.\nSuccesfully constructed EC7.2.2.5 file.\nSuccesfully constructed EC7.2.2.6 file.\nSuccesfully constructed EC7.2.2.7 file.\nSuccesfully constructed EC7.2.2.8 file.\nSuccesfully constructed EC7.2.2.9 file.\nSuccesfully constructed EC7.2.4.1 file.\nSuccesfully constructed EC7.2.4.2 file.\nSuccesfully constructed EC7.2.4.3 file.\nSuccesfully constructed EC7.2.4.4 file.\nSuccesfully constructed EC7.2.4.5 file.\nSuccesfully constructed EC7.3.2.1 file.\nSuccesfully constructed EC7.3.2.3 file.\nSuccesfully constructed EC7.3.2.4 file.\nSuccesfully constructed EC7.3.2.5 file.\nSuccesfully constructed EC7.3.2.6 file.\nSuccesfully constructed EC7.3.2.7 file.\nSuccesfully constructed EC7.4.2.10 file.\nSuccesfully constructed EC7.4.2.11 file.\nSuccesfully constructed EC7.4.2.12 file.\nSuccesfully constructed EC7.4.2.13 file.\nSuccesfully constructed EC7.4.2.1 file.\nSuccesfully constructed EC7.4.2.2 file.\nSuccesfully constructed EC7.4.2.3 file.\nSuccesfully constructed EC7.4.2.4 file.\nSuccesfully constructed EC7.4.2.5 file.\nSuccesfully constructed EC7.4.2.6 file.\nSuccesfully constructed EC7.4.2.7 file.\nSuccesfully constructed EC7.4.2.8 file.\nSuccesfully constructed EC7.4.2.9 file.\nSuccesfully constructed EC7.5.2.13 file.\nSuccesfully constructed EC7.5.2.1 file.\nSuccesfully constructed EC7.5.2.2 file.\nSuccesfully constructed EC7.5.2.3 file.\nSuccesfully constructed EC7.5.2.4 file.\nSuccesfully constructed EC7.5.2.6 file.\nSuccesfully constructed EC7.5.2.B7 file.\nSuccesfully constructed EC7.5.2.B8 file.\nSuccesfully constructed EC7.6.2.10 file.\nSuccesfully constructed EC7.6.2.11 file.\nSuccesfully constructed EC7.6.2.12 file.\nSuccesfully constructed EC7.6.2.15 file.\nSuccesfully constructed EC7.6.2.16 file.\nSuccesfully constructed EC7.6.2.1 file.\nSuccesfully constructed EC7.6.2.2 file.\nSuccesfully constructed EC7.6.2.3 file.\nSuccesfully constructed EC7.6.2.4 file.\nSuccesfully constructed EC7.6.2.7 file.\nSuccesfully constructed EC7.6.2.8 file.\nSuccesfully constructed EC7.6.2.9 file.\n"
    }
   ],
   "source": [
    "#INPUTS:\n",
    "#1) Path in which all BRENDA queries are (from script retrieveBRENDA.py):\n",
    "input_path = '../data/Brenda/'\n",
    "#2) Path in which you wish to store all EC files:\n",
    "output_path = '../data/Brenda_EC/'\n",
    "\n",
    "if not os.path.exists(output_path):\n",
    "    os.makedirs(output_path)  \n",
    "\n",
    "createECfiles(input_path,output_path)"
   ]
  },
  {
   "source": [
    "# # findMaxKcats\n",
    "# Reads all EC files and finds the max value for each substrate for the chosen\n",
    "# microorganism on the different enzymatic parameters [Kcat, KM, SA, MW]. \n",
    "# For each parameter Writes a table with the following columns:"
   ],
   "cell_type": "markdown",
   "metadata": {}
  },
  {
   "cell_type": "code",
   "execution_count": 1,
   "metadata": {},
   "outputs": [],
   "source": [
    "import sys\n",
    "import os\n",
    "import csv\n",
    "import numpy\n",
    "\n",
    "sys.path.append(r'../code/')\n",
    "from GECKO_function import *"
   ]
  },
  {
   "source": [
    "#INPUTS:\n",
    "#1) Enzymatic parameters\n",
    "features_list = ['KCAT','SA', 'MW']\n",
    "#2) Path in which the EC files are stored (from script createECfiles.py):\n",
    "input_path = '../data/Brenda_EC/'\n",
    "#3) Path in which you wish to store the final table:\n",
    "output_path = '../data/Brenda_EC_max/'"
   ],
   "cell_type": "code",
   "metadata": {},
   "execution_count": 2,
   "outputs": []
  },
  {
   "cell_type": "code",
   "execution_count": 3,
   "metadata": {
    "tags": [
     "outputPrepend"
    ]
   },
   "outputs": [
    {
     "output_type": "stream",
     "name": "stdout",
     "text": "1.txt MW\nProcessed file EC5.1.2.2.txt MW\nProcessed file EC5.1.2.3.txt MW\nProcessed file EC5.1.2.4.txt MW\nProcessed file EC5.1.2.5.txt MW\nProcessed file EC5.1.2.7.txt MW\nProcessed file EC5.1.2.M1.txt MW\nProcessed file EC5.1.3.1.txt MW\nProcessed file EC5.1.3.10.txt MW\nProcessed file EC5.1.3.11.txt MW\nProcessed file EC5.1.3.12.txt MW\nProcessed file EC5.1.3.13.txt MW\nProcessed file EC5.1.3.14.txt MW\nProcessed file EC5.1.3.15.txt MW\nProcessed file EC5.1.3.16.txt MW\nProcessed file EC5.1.3.17.txt MW\nProcessed file EC5.1.3.18.txt MW\nProcessed file EC5.1.3.19.txt MW\nProcessed file EC5.1.3.2.txt MW\nProcessed file EC5.1.3.20.txt MW\nProcessed file EC5.1.3.21.txt MW\nProcessed file EC5.1.3.22.txt MW\nProcessed file EC5.1.3.23.txt MW\nProcessed file EC5.1.3.24.txt MW\nProcessed file EC5.1.3.25.txt MW\nProcessed file EC5.1.3.26.txt MW\nProcessed file EC5.1.3.27.txt MW\nProcessed file EC5.1.3.28.txt MW\nProcessed file EC5.1.3.29.txt MW\nProcessed file EC5.1.3.3.txt MW\nProcessed file EC5.1.3.30.txt MW\nProcessed file EC5.1.3.31.txt MW\nProcessed file EC5.1.3.32.txt MW\nProcessed file EC5.1.3.33.txt MW\nProcessed file EC5.1.3.34.txt MW\nProcessed file EC5.1.3.35.txt MW\nProcessed file EC5.1.3.36.txt MW\nProcessed file EC5.1.3.37.txt MW\nProcessed file EC5.1.3.38.txt MW\nProcessed file EC5.1.3.4.txt MW\nProcessed file EC5.1.3.40.txt MW\nProcessed file EC5.1.3.41.txt MW\nProcessed file EC5.1.3.42.txt MW\nProcessed file EC5.1.3.43.txt MW\nProcessed file EC5.1.3.5.txt MW\nProcessed file EC5.1.3.6.txt MW\nProcessed file EC5.1.3.7.txt MW\nProcessed file EC5.1.3.8.txt MW\nProcessed file EC5.1.3.9.txt MW\nProcessed file EC5.1.3.B12.txt MW\nProcessed file EC5.1.3.M3.txt MW\nProcessed file EC5.1.3.M5.txt MW\nProcessed file EC5.1.99.1.txt MW\nProcessed file EC5.1.99.2.txt MW\nProcessed file EC5.1.99.3.txt MW\nProcessed file EC5.1.99.4.txt MW\nProcessed file EC5.1.99.5.txt MW\nProcessed file EC5.1.99.6.txt MW\nProcessed file EC5.1.99.7.txt MW\nProcessed file EC5.1.99.8.txt MW\nProcessed file EC5.1.99.M3.txt MW\nProcessed file EC5.2.1.1.txt MW\nProcessed file EC5.2.1.10.txt MW\nProcessed file EC5.2.1.12.txt MW\nProcessed file EC5.2.1.13.txt MW\nProcessed file EC5.2.1.14.txt MW\nProcessed file EC5.2.1.2.txt MW\nProcessed file EC5.2.1.4.txt MW\nProcessed file EC5.2.1.5.txt MW\nProcessed file EC5.2.1.8.txt MW\nProcessed file EC5.2.1.9.txt MW\nProcessed file EC5.3.1.1.txt MW\nProcessed file EC5.3.1.12.txt MW\nProcessed file EC5.3.1.13.txt MW\nProcessed file EC5.3.1.14.txt MW\nProcessed file EC5.3.1.15.txt MW\nProcessed file EC5.3.1.16.txt MW\nProcessed file EC5.3.1.17.txt MW\nProcessed file EC5.3.1.20.txt MW\nProcessed file EC5.3.1.21.txt MW\nProcessed file EC5.3.1.22.txt MW\nProcessed file EC5.3.1.23.txt MW\nProcessed file EC5.3.1.24.txt MW\nProcessed file EC5.3.1.25.txt MW\nProcessed file EC5.3.1.26.txt MW\nProcessed file EC5.3.1.27.txt MW\nProcessed file EC5.3.1.28.txt MW\nProcessed file EC5.3.1.29.txt MW\nProcessed file EC5.3.1.3.txt MW\nProcessed file EC5.3.1.30.txt MW\nProcessed file EC5.3.1.31.txt MW\nProcessed file EC5.3.1.32.txt MW\nProcessed file EC5.3.1.33.txt MW\nProcessed file EC5.3.1.34.txt MW\nProcessed file EC5.3.1.35.txt MW\nProcessed file EC5.3.1.4.txt MW\nProcessed file EC5.3.1.5.txt MW\nProcessed file EC5.3.1.6.txt MW\nProcessed file EC5.3.1.7.txt MW\nProcessed file EC5.3.1.8.txt MW\nProcessed file EC5.3.1.9.txt MW\nProcessed file EC5.3.1.B3.txt MW\nProcessed file EC5.3.1.j.txt MW\nProcessed file EC5.3.2.1.txt MW\nProcessed file EC5.3.2.2.txt MW\nProcessed file EC5.3.2.3.txt MW\nProcessed file EC5.3.2.4.txt MW\nProcessed file EC5.3.2.5.txt MW\nProcessed file EC5.3.2.6.txt MW\nProcessed file EC5.3.2.7.txt MW\nProcessed file EC5.3.2.8.txt MW\nProcessed file EC5.3.2.M1.txt MW\nProcessed file EC5.3.3.1.txt MW\nProcessed file EC5.3.3.10.txt MW\nProcessed file EC5.3.3.11.txt MW\nProcessed file EC5.3.3.12.txt MW\nProcessed file EC5.3.3.13.txt MW\nProcessed file EC5.3.3.14.txt MW\nProcessed file EC5.3.3.16.txt MW\nProcessed file EC5.3.3.17.txt MW\nProcessed file EC5.3.3.18.txt MW\nProcessed file EC5.3.3.19.txt MW\nProcessed file EC5.3.3.2.txt MW\nProcessed file EC5.3.3.21.txt MW\nProcessed file EC5.3.3.3.txt MW\nProcessed file EC5.3.3.4.txt MW\nProcessed file EC5.3.3.5.txt MW\nProcessed file EC5.3.3.6.txt MW\nProcessed file EC5.3.3.7.txt MW\nProcessed file EC5.3.3.8.txt MW\nProcessed file EC5.3.3.9.txt MW\nProcessed file EC5.3.3.B2.txt MW\nProcessed file EC5.3.3.M5.txt MW\nProcessed file EC5.3.4.1.txt MW\nProcessed file EC5.3.99.10.txt MW\nProcessed file EC5.3.99.11.txt MW\nProcessed file EC5.3.99.2.txt MW\nProcessed file EC5.3.99.3.txt MW\nProcessed file EC5.3.99.4.txt MW\nProcessed file EC5.3.99.5.txt MW\nProcessed file EC5.3.99.6.txt MW\nProcessed file EC5.3.99.7.txt MW\nProcessed file EC5.3.99.8.txt MW\nProcessed file EC5.3.99.9.txt MW\nProcessed file EC5.3.99.M1.txt MW\nProcessed file EC5.4.1.3.txt MW\nProcessed file EC5.4.1.4.txt MW\nProcessed file EC5.4.2.10.txt MW\nProcessed file EC5.4.2.11.txt MW\nProcessed file EC5.4.2.12.txt MW\nProcessed file EC5.4.2.13.txt MW\nProcessed file EC5.4.2.2.txt MW\nProcessed file EC5.4.2.3.txt MW\nProcessed file EC5.4.2.4.txt MW\nProcessed file EC5.4.2.5.txt MW\nProcessed file EC5.4.2.6.txt MW\nProcessed file EC5.4.2.7.txt MW\nProcessed file EC5.4.2.8.txt MW\nProcessed file EC5.4.2.9.txt MW\nProcessed file EC5.4.3.10.txt MW\nProcessed file EC5.4.3.11.txt MW\nProcessed file EC5.4.3.2.txt MW\nProcessed file EC5.4.3.3.txt MW\nProcessed file EC5.4.3.5.txt MW\nProcessed file EC5.4.3.6.txt MW\nProcessed file EC5.4.3.7.txt MW\nProcessed file EC5.4.3.8.txt MW\nProcessed file EC5.4.4.-.txt MW\nProcessed file EC5.4.4.1.txt MW\nProcessed file EC5.4.4.2.txt MW\nProcessed file EC5.4.4.3.txt MW\nProcessed file EC5.4.4.4.txt MW\nProcessed file EC5.4.4.5.txt MW\nProcessed file EC5.4.4.6.txt MW\nProcessed file EC5.4.4.8.txt MW\nProcessed file EC5.4.99.1.txt MW\nProcessed file EC5.4.99.11.txt MW\nProcessed file EC5.4.99.12.txt MW\nProcessed file EC5.4.99.13.txt MW\nProcessed file EC5.4.99.14.txt MW\nProcessed file EC5.4.99.15.txt MW\nProcessed file EC5.4.99.16.txt MW\nProcessed file EC5.4.99.17.txt MW\nProcessed file EC5.4.99.18.txt MW\nProcessed file EC5.4.99.19.txt MW\nProcessed file EC5.4.99.2.txt MW\nProcessed file EC5.4.99.20.txt MW\nProcessed file EC5.4.99.23.txt MW\nProcessed file EC5.4.99.25.txt MW\nProcessed file EC5.4.99.27.txt MW\nProcessed file EC5.4.99.28.txt MW\nProcessed file EC5.4.99.29.txt MW\nProcessed file EC5.4.99.3.txt MW\nProcessed file EC5.4.99.30.txt MW\nProcessed file EC5.4.99.31.txt MW\nProcessed file EC5.4.99.32.txt MW\nProcessed file EC5.4.99.33.txt MW\nProcessed file EC5.4.99.34.txt MW\nProcessed file EC5.4.99.35.txt MW\nProcessed file EC5.4.99.36.txt MW\nProcessed file EC5.4.99.37.txt MW\nProcessed file EC5.4.99.38.txt MW\nProcessed file EC5.4.99.39.txt MW\nProcessed file EC5.4.99.4.txt MW\nProcessed file EC5.4.99.40.txt MW\nProcessed file EC5.4.99.41.txt MW\nProcessed file EC5.4.99.47.txt MW\nProcessed file EC5.4.99.48.txt MW\nProcessed file EC5.4.99.49.txt MW\nProcessed file EC5.4.99.5.txt MW\nProcessed file EC5.4.99.50.txt MW\nProcessed file EC5.4.99.52.txt MW\nProcessed file EC5.4.99.53.txt MW\nProcessed file EC5.4.99.54.txt MW\nProcessed file EC5.4.99.55.txt MW\nProcessed file EC5.4.99.56.txt MW\nProcessed file EC5.4.99.57.txt MW\nProcessed file EC5.4.99.58.txt MW\nProcessed file EC5.4.99.59.txt MW\nProcessed file EC5.4.99.60.txt MW\nProcessed file EC5.4.99.61.txt MW\nProcessed file EC5.4.99.62.txt MW\nProcessed file EC5.4.99.63.txt MW\nProcessed file EC5.4.99.64.txt MW\nProcessed file EC5.4.99.67.txt MW\nProcessed file EC5.4.99.7.txt MW\nProcessed file EC5.4.99.8.txt MW\nProcessed file EC5.4.99.9.txt MW\nProcessed file EC5.4.99.B2.txt MW\nProcessed file EC5.4.99.B22.txt MW\nProcessed file EC5.4.99.B4.txt MW\nProcessed file EC5.5.1.1.txt MW\nProcessed file EC5.5.1.10.txt MW\nProcessed file EC5.5.1.11.txt MW\nProcessed file EC5.5.1.12.txt MW\nProcessed file EC5.5.1.13.txt MW\nProcessed file EC5.5.1.14.txt MW\nProcessed file EC5.5.1.15.txt MW\nProcessed file EC5.5.1.16.txt MW\nProcessed file EC5.5.1.17.txt MW\nProcessed file EC5.5.1.18.txt MW\nProcessed file EC5.5.1.19.txt MW\nProcessed file EC5.5.1.2.txt MW\nProcessed file EC5.5.1.20.txt MW\nProcessed file EC5.5.1.22.txt MW\nProcessed file EC5.5.1.23.txt MW\nProcessed file EC5.5.1.24.txt MW\nProcessed file EC5.5.1.25.txt MW\nProcessed file EC5.5.1.26.txt MW\nProcessed file EC5.5.1.27.txt MW\nProcessed file EC5.5.1.28.txt MW\nProcessed file EC5.5.1.3.txt MW\nProcessed file EC5.5.1.31.txt MW\nProcessed file EC5.5.1.32.txt MW\nProcessed file EC5.5.1.33.txt MW\nProcessed file EC5.5.1.34.txt MW\nProcessed file EC5.5.1.4.txt MW\nProcessed file EC5.5.1.5.txt MW\nOrganism not found in KEGG or BRENDA\nOrganism not found in KEGG or BRENDA\nOrganism not found in KEGG or BRENDA\nOrganism not found in KEGG or BRENDA\nOrganism not found in KEGG or BRENDA\nOrganism not found in KEGG or BRENDA\nProcessed file EC5.5.1.6.txt MW\nProcessed file EC5.5.1.7.txt MW\nProcessed file EC5.5.1.8.txt MW\nProcessed file EC5.5.1.9.txt MW\nProcessed file EC5.5.1.B6.txt MW\nProcessed file EC5.5.1.M10.txt MW\nProcessed file EC5.5.1.M11.txt MW\nProcessed file EC5.5.1.M8.txt MW\nProcessed file EC5.5.1.M9.txt MW\nProcessed file EC5.5.1.v.txt MW\nProcessed file EC5.6.1.1.txt MW\nProcessed file EC5.6.1.2.txt MW\nProcessed file EC5.6.1.3.txt MW\nProcessed file EC5.6.1.4.txt MW\nProcessed file EC5.6.1.5.txt MW\nProcessed file EC5.6.1.6.txt MW\nProcessed file EC5.6.1.7.txt MW\nProcessed file EC5.6.1.8.txt MW\nProcessed file EC5.6.1.9.txt MW\nProcessed file EC5.6.2.1.txt MW\nProcessed file EC5.6.2.2.txt MW\nProcessed file EC5.99.1.4.txt MW\nProcessed file EC6.1.1.1.txt MW\nProcessed file EC6.1.1.10.txt MW\nProcessed file EC6.1.1.11.txt MW\nProcessed file EC6.1.1.12.txt MW\nProcessed file EC6.1.1.13.txt MW\nProcessed file EC6.1.1.14.txt MW\nProcessed file EC6.1.1.15.txt MW\nProcessed file EC6.1.1.16.txt MW\nProcessed file EC6.1.1.17.txt MW\nProcessed file EC6.1.1.18.txt MW\nProcessed file EC6.1.1.19.txt MW\nProcessed file EC6.1.1.2.txt MW\nProcessed file EC6.1.1.20.txt MW\nProcessed file EC6.1.1.21.txt MW\nProcessed file EC6.1.1.22.txt MW\nProcessed file EC6.1.1.23.txt MW\nProcessed file EC6.1.1.24.txt MW\nProcessed file EC6.1.1.26.txt MW\nProcessed file EC6.1.1.27.txt MW\nProcessed file EC6.1.1.3.txt MW\nProcessed file EC6.1.1.4.txt MW\nProcessed file EC6.1.1.5.txt MW\nProcessed file EC6.1.1.6.txt MW\nProcessed file EC6.1.1.7.txt MW\nProcessed file EC6.1.1.9.txt MW\nProcessed file EC6.1.1.B3.txt MW\nProcessed file EC6.1.2.1.txt MW\nProcessed file EC6.1.2.2.txt MW\nProcessed file EC6.1.3.1.txt MW\nProcessed file EC6.2.1.-.txt MW\nProcessed file EC6.2.1.1.txt MW\nProcessed file EC6.2.1.10.txt MW\nProcessed file EC6.2.1.11.txt MW\nProcessed file EC6.2.1.12.txt MW\nProcessed file EC6.2.1.13.txt MW\nProcessed file EC6.2.1.14.txt MW\nProcessed file EC6.2.1.15.txt MW\nProcessed file EC6.2.1.16.txt MW\nProcessed file EC6.2.1.17.txt MW\nProcessed file EC6.2.1.18.txt MW\nProcessed file EC6.2.1.19.txt MW\nProcessed file EC6.2.1.2.txt MW\nProcessed file EC6.2.1.20.txt MW\nProcessed file EC6.2.1.22.txt MW\nProcessed file EC6.2.1.23.txt MW\nProcessed file EC6.2.1.24.txt MW\nProcessed file EC6.2.1.25.txt MW\nProcessed file EC6.2.1.26.txt MW\nProcessed file EC6.2.1.27.txt MW\nProcessed file EC6.2.1.28.txt MW\nProcessed file EC6.2.1.3.txt MW\nProcessed file EC6.2.1.30.txt MW\nProcessed file EC6.2.1.31.txt MW\nProcessed file EC6.2.1.32.txt MW\nProcessed file EC6.2.1.33.txt MW\nProcessed file EC6.2.1.34.txt MW\nProcessed file EC6.2.1.35.txt MW\nProcessed file EC6.2.1.36.txt MW\nProcessed file EC6.2.1.37.txt MW\nProcessed file EC6.2.1.38.txt MW\nProcessed file EC6.2.1.39.txt MW\nProcessed file EC6.2.1.4.txt MW\nProcessed file EC6.2.1.40.txt MW\nProcessed file EC6.2.1.41.txt MW\nProcessed file EC6.2.1.42.txt MW\nProcessed file EC6.2.1.43.txt MW\nProcessed file EC6.2.1.44.txt MW\nProcessed file EC6.2.1.45.txt MW\nProcessed file EC6.2.1.46.txt MW\nProcessed file EC6.2.1.47.txt MW\nProcessed file EC6.2.1.48.txt MW\nProcessed file EC6.2.1.5.txt MW\nProcessed file EC6.2.1.52.txt MW\nProcessed file EC6.2.1.53.txt MW\nProcessed file EC6.2.1.54.txt MW\nProcessed file EC6.2.1.55.txt MW\nProcessed file EC6.2.1.56.txt MW\nProcessed file EC6.2.1.58.txt MW\nProcessed file EC6.2.1.6.txt MW\nProcessed file EC6.2.1.60.txt MW\nProcessed file EC6.2.1.61.txt MW\nProcessed file EC6.2.1.62.txt MW\nProcessed file EC6.2.1.7.txt MW\nProcessed file EC6.2.1.8.txt MW\nProcessed file EC6.2.1.9.txt MW\nProcessed file EC6.2.1.B1.txt MW\nProcessed file EC6.2.1.B10.txt MW\nProcessed file EC6.2.1.B11.txt MW\nProcessed file EC6.2.1.B13.txt MW\nProcessed file EC6.2.1.B3.txt MW\nProcessed file EC6.2.1.B4.txt MW\nProcessed file EC6.2.1.B5.txt MW\nProcessed file EC6.2.1.M2.txt MW\nProcessed file EC6.2.1.M31.txt MW\nProcessed file EC6.2.1.M32.txt MW\nProcessed file EC6.2.1.M34.txt MW\nProcessed file EC6.2.1.M35.txt MW\nProcessed file EC6.2.1.M4.txt MW\nProcessed file EC6.2.1.ad.txt MW\nProcessed file EC6.2.1.ae.txt MW\nProcessed file EC6.2.1.af.txt MW\nProcessed file EC6.2.1.al.txt MW\nProcessed file EC6.2.1.r.txt MW\nProcessed file EC6.3.1.1.txt MW\nProcessed file EC6.3.1.10.txt MW\nProcessed file EC6.3.1.11.txt MW\nProcessed file EC6.3.1.12.txt MW\nProcessed file EC6.3.1.13.txt MW\nProcessed file EC6.3.1.14.txt MW\nProcessed file EC6.3.1.15.txt MW\nProcessed file EC6.3.1.17.txt MW\nProcessed file EC6.3.1.18.txt MW\nProcessed file EC6.3.1.19.txt MW\nProcessed file EC6.3.1.2.txt MW\nProcessed file EC6.3.1.20.txt MW\nProcessed file EC6.3.1.4.txt MW\nProcessed file EC6.3.1.5.txt MW\nProcessed file EC6.3.1.6.txt MW\nProcessed file EC6.3.1.7.txt MW\nProcessed file EC6.3.1.8.txt MW\nProcessed file EC6.3.1.9.txt MW\nProcessed file EC6.3.2.1.txt MW\nProcessed file EC6.3.2.10.txt MW\nProcessed file EC6.3.2.11.txt MW\nProcessed file EC6.3.2.12.txt MW\nProcessed file EC6.3.2.13.txt MW\nProcessed file EC6.3.2.14.txt MW\nProcessed file EC6.3.2.16.txt MW\nProcessed file EC6.3.2.17.txt MW\nProcessed file EC6.3.2.18.txt MW\nProcessed file EC6.3.2.2.txt MW\nProcessed file EC6.3.2.23.txt MW\nProcessed file EC6.3.2.24.txt MW\nProcessed file EC6.3.2.25.txt MW\nProcessed file EC6.3.2.26.txt MW\nProcessed file EC6.3.2.29.txt MW\nProcessed file EC6.3.2.3.txt MW\nProcessed file EC6.3.2.30.txt MW\nProcessed file EC6.3.2.31.txt MW\nProcessed file EC6.3.2.32.txt MW\nProcessed file EC6.3.2.33.txt MW\nProcessed file EC6.3.2.34.txt MW\nProcessed file EC6.3.2.35.txt MW\nProcessed file EC6.3.2.36.txt MW\nProcessed file EC6.3.2.37.txt MW\nProcessed file EC6.3.2.38.txt MW\nProcessed file EC6.3.2.39.txt MW\nProcessed file EC6.3.2.4.txt MW\nProcessed file EC6.3.2.40.txt MW\nProcessed file EC6.3.2.41.txt MW\nProcessed file EC6.3.2.42.txt MW\nProcessed file EC6.3.2.43.txt MW\nProcessed file EC6.3.2.44.txt MW\nProcessed file EC6.3.2.45.txt MW\nProcessed file EC6.3.2.46.txt MW\nProcessed file EC6.3.2.47.txt MW\nProcessed file EC6.3.2.48.txt MW\nProcessed file EC6.3.2.49.txt MW\nProcessed file EC6.3.2.5.txt MW\nProcessed file EC6.3.2.50.txt MW\nProcessed file EC6.3.2.51.txt MW\nProcessed file EC6.3.2.52.txt MW\nProcessed file EC6.3.2.53.txt MW\nProcessed file EC6.3.2.54.txt MW\nProcessed file EC6.3.2.55.txt MW\nProcessed file EC6.3.2.56.txt MW\nProcessed file EC6.3.2.57.txt MW\nProcessed file EC6.3.2.58.txt MW\nProcessed file EC6.3.2.6.txt MW\nProcessed file EC6.3.2.7.txt MW\nProcessed file EC6.3.2.8.txt MW\nProcessed file EC6.3.2.9.txt MW\nProcessed file EC6.3.2.B11.txt MW\nProcessed file EC6.3.2.B15.txt MW\nProcessed file EC6.3.2.B19.txt MW\nProcessed file EC6.3.2.B2.txt MW\nProcessed file EC6.3.2.B24.txt MW\nProcessed file EC6.3.2.B3.txt MW\nProcessed file EC6.3.2.M1.txt MW\nProcessed file EC6.3.2.M13.txt MW\nProcessed file EC6.3.2.M4.txt MW\nProcessed file EC6.3.2.z.txt MW\nProcessed file EC6.3.3.-.txt MW\nProcessed file EC6.3.3.1.txt MW\nProcessed file EC6.3.3.2.txt MW\nProcessed file EC6.3.3.3.txt MW\nProcessed file EC6.3.3.4.txt MW\nProcessed file EC6.3.3.5.txt MW\nProcessed file EC6.3.3.6.txt MW\nProcessed file EC6.3.3.7.txt MW\nProcessed file EC6.3.4.10.txt MW\nProcessed file EC6.3.4.11.txt MW\nProcessed file EC6.3.4.12.txt MW\nProcessed file EC6.3.4.13.txt MW\nProcessed file EC6.3.4.14.txt MW\nProcessed file EC6.3.4.15.txt MW\nProcessed file EC6.3.4.16.txt MW\nProcessed file EC6.3.4.17.txt MW\nProcessed file EC6.3.4.18.txt MW\nProcessed file EC6.3.4.19.txt MW\nProcessed file EC6.3.4.2.txt MW\nProcessed file EC6.3.4.20.txt MW\nProcessed file EC6.3.4.21.txt MW\nProcessed file EC6.3.4.22.txt MW\nProcessed file EC6.3.4.23.txt MW\nProcessed file EC6.3.4.24.txt MW\nProcessed file EC6.3.4.3.txt MW\nProcessed file EC6.3.4.4.txt MW\nProcessed file EC6.3.4.5.txt MW\nProcessed file EC6.3.4.6.txt MW\nProcessed file EC6.3.4.7.txt MW\nProcessed file EC6.3.4.8.txt MW\nProcessed file EC6.3.4.9.txt MW\nProcessed file EC6.3.5.1.txt MW\nProcessed file EC6.3.5.10.txt MW\nProcessed file EC6.3.5.11.txt MW\nProcessed file EC6.3.5.12.txt MW\nProcessed file EC6.3.5.13.txt MW\nProcessed file EC6.3.5.2.txt MW\nProcessed file EC6.3.5.3.txt MW\nProcessed file EC6.3.5.4.txt MW\nProcessed file EC6.3.5.5.txt MW\nProcessed file EC6.3.5.6.txt MW\nProcessed file EC6.3.5.7.txt MW\nProcessed file EC6.3.5.9.txt MW\nProcessed file EC6.3.5.M1.txt MW\nProcessed file EC6.3.5.M2.txt MW\nProcessed file EC6.4.1.1.txt MW\nProcessed file EC6.4.1.2.txt MW\nProcessed file EC6.4.1.3.txt MW\nProcessed file EC6.4.1.4.txt MW\nProcessed file EC6.4.1.5.txt MW\nProcessed file EC6.4.1.6.txt MW\nProcessed file EC6.4.1.7.txt MW\nProcessed file EC6.4.1.8.txt MW\nProcessed file EC6.4.1.9.txt MW\nProcessed file EC6.5.1.1.txt MW\nProcessed file EC6.5.1.2.txt MW\nProcessed file EC6.5.1.3.txt MW\nProcessed file EC6.5.1.4.txt MW\nProcessed file EC6.5.1.5.txt MW\nProcessed file EC6.5.1.6.txt MW\nProcessed file EC6.5.1.7.txt MW\nProcessed file EC6.5.1.8.txt MW\nProcessed file EC6.5.1.B1.txt MW\nProcessed file EC6.5.1.e.txt MW\nProcessed file EC6.6.1.1.txt MW\nProcessed file EC6.6.1.2.txt MW\nProcessed file EC7.1.1.1.txt MW\nProcessed file EC7.1.1.2.txt MW\nProcessed file EC7.1.1.3.txt MW\nProcessed file EC7.1.1.4.txt MW\nProcessed file EC7.1.1.5.txt MW\nProcessed file EC7.1.1.6.txt MW\nProcessed file EC7.1.1.7.txt MW\nProcessed file EC7.1.1.8.txt MW\nProcessed file EC7.1.1.9.txt MW\nProcessed file EC7.1.2.1.txt MW\nProcessed file EC7.1.2.2.txt MW\nProcessed file EC7.1.3.1.txt MW\nProcessed file EC7.2.1.1.txt MW\nProcessed file EC7.2.1.2.txt MW\nProcessed file EC7.2.1.3.txt MW\nProcessed file EC7.2.2.1.txt MW\nProcessed file EC7.2.2.10.txt MW\nProcessed file EC7.2.2.11.txt MW\nProcessed file EC7.2.2.12.txt MW\nProcessed file EC7.2.2.13.txt MW\nProcessed file EC7.2.2.14.txt MW\nProcessed file EC7.2.2.15.txt MW\nProcessed file EC7.2.2.16.txt MW\nProcessed file EC7.2.2.18.txt MW\nProcessed file EC7.2.2.19.txt MW\nProcessed file EC7.2.2.2.txt MW\nProcessed file EC7.2.2.21.txt MW\nProcessed file EC7.2.2.3.txt MW\nProcessed file EC7.2.2.5.txt MW\nProcessed file EC7.2.2.6.txt MW\nProcessed file EC7.2.2.7.txt MW\nProcessed file EC7.2.2.8.txt MW\nProcessed file EC7.2.2.9.txt MW\nProcessed file EC7.2.4.1.txt MW\nProcessed file EC7.2.4.2.txt MW\nProcessed file EC7.2.4.3.txt MW\nProcessed file EC7.2.4.4.txt MW\nProcessed file EC7.2.4.5.txt MW\nProcessed file EC7.3.2.1.txt MW\nProcessed file EC7.3.2.3.txt MW\nProcessed file EC7.3.2.4.txt MW\nProcessed file EC7.3.2.5.txt MW\nProcessed file EC7.3.2.6.txt MW\nProcessed file EC7.3.2.7.txt MW\nProcessed file EC7.4.2.1.txt MW\nProcessed file EC7.4.2.10.txt MW\nProcessed file EC7.4.2.11.txt MW\nProcessed file EC7.4.2.12.txt MW\nProcessed file EC7.4.2.13.txt MW\nProcessed file EC7.4.2.2.txt MW\nProcessed file EC7.4.2.3.txt MW\nProcessed file EC7.4.2.4.txt MW\nProcessed file EC7.4.2.5.txt MW\nProcessed file EC7.4.2.6.txt MW\nProcessed file EC7.4.2.7.txt MW\nProcessed file EC7.4.2.8.txt MW\nProcessed file EC7.4.2.9.txt MW\nProcessed file EC7.5.2.1.txt MW\nProcessed file EC7.5.2.13.txt MW\nProcessed file EC7.5.2.2.txt MW\nProcessed file EC7.5.2.3.txt MW\nProcessed file EC7.5.2.4.txt MW\nProcessed file EC7.5.2.6.txt MW\nProcessed file EC7.5.2.B7.txt MW\nProcessed file EC7.5.2.B8.txt MW\nProcessed file EC7.6.2.1.txt MW\nProcessed file EC7.6.2.10.txt MW\nProcessed file EC7.6.2.11.txt MW\nProcessed file EC7.6.2.12.txt MW\nProcessed file EC7.6.2.15.txt MW\nProcessed file EC7.6.2.16.txt MW\nProcessed file EC7.6.2.2.txt MW\nProcessed file EC7.6.2.3.txt MW\nProcessed file EC7.6.2.4.txt MW\nProcessed file EC7.6.2.7.txt MW\nProcessed file EC7.6.2.8.txt MW\nProcessed file EC7.6.2.9.txt MW\n"
    }
   ],
   "source": [
    "if not os.path.exists(output_path):\n",
    "    os.makedirs(output_path)  \n",
    "    \n",
    "dir_files = os.listdir(input_path)\n",
    "dir_files.sort()\n",
    "organism_list,taxonomy,organism_code = orgs_list(input_path,dir_files)\n",
    "\n",
    "for feature_name in features_list:\n",
    "    output = ''\n",
    "    for ec in dir_files:\n",
    "        ec_number  = ec[0:len(ec)-4]\n",
    "        fid       = open(input_path+ec,'r')\n",
    "        csv_fid   = csv.reader(fid,delimiter='\\t')\n",
    "        #Builds a string with all the information in the EC file\n",
    "        data_string, ec_pathways = EC_string(csv_fid, organism_list, organism_code, taxonomy, feature_name)\n",
    "        fid.close()\n",
    "        substrates,org_strings,max_values = sub_max_std(data_string)\n",
    "        for sub in substrates:\n",
    "            i = substrates.index(sub)\n",
    "            for org in org_strings[i]:\n",
    "                j = org_strings[i].index(org)\n",
    "                output = output+ec_number+'\\t'+sub+'\\t'+org+'\\t'+str(max_values[i][j])+'\\t'+ ec_pathways+'\\n'\n",
    "        print 'Processed file ' + ec + ' ' + feature_name\n",
    "    #Write output:\n",
    "    fid  = open(output_path+'max_' + feature_name + '.txt','w')\n",
    "    fid.write(output)\n",
    "    fid.close()"
   ]
  },
  {
   "source": [
    "\n",
    "# # retrieveKEGG\n",
    "# Access the KEGG API and retrieves all data available for each protein-coding\n",
    "# gene of the \"n\" organisms specified. Creates a file for each succesful query.\n"
   ],
   "cell_type": "markdown",
   "metadata": {}
  },
  {
   "cell_type": "code",
   "execution_count": null,
   "metadata": {},
   "outputs": [],
   "source": [
    "#INPUTS:\n",
    "#1) Organism KEGG codes (as many as you want). Full list at:\n",
    "#   http://rest.kegg.jp/list/organism\n",
    "organism_codes = ['sce']#['eco']\n",
    "#2) Path for storing all generated files:\n",
    "output_path = './data/KEGG/'\n",
    "#3) Last organism processed (if the program was interrupted)\n",
    "#   Starting form scratch?, leave empty:\n",
    "last_organism = ''\n",
    "#4) Last gene entry processed (if the program was interrupted),\n",
    "#   Starting form scratch?, leave empty:\n",
    "last_entry = ''"
   ]
  },
  {
   "cell_type": "code",
   "execution_count": null,
   "metadata": {},
   "outputs": [],
   "source": [
    "#Get current path:\n",
    "import os\n",
    "prev_path = os.getcwd()\n",
    "\n",
    "#Remove organisms already queried from the list\n",
    "if last_organism!='':\n",
    "    organism_codes=organism_codes[organism_codes.index(last_organism):]\n",
    "\n",
    "#extensible library for opening URLs\n",
    "import urllib2\n",
    "#Main loop: retrieves all genes found for every organism\n",
    "for organism in organism_codes:\n",
    "    \n",
    "    #Creates (if not present) a subfolder for the organism inside the\n",
    "    #specified output path\n",
    "    org_path = output_path + '/' + organism\n",
    "    if not os.path.exists(org_path):\n",
    "        os.makedirs(org_path)\n",
    "    #access to the created organism subfolder\n",
    "    os.chdir(org_path)\n",
    "\n",
    "    #gets and creates files for all the gene entries found for the organism\n",
    "    organism_genes=retrieve_org_genesData(organism, last_entry)\n",
    "\n",
    "os.chdir(prev_path)"
   ]
  }
 ]
}