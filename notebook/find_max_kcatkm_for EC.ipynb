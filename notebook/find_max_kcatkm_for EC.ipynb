{
 "metadata": {
  "language_info": {
   "codemirror_mode": {
    "name": "ipython",
    "version": 3
   },
   "file_extension": ".py",
   "mimetype": "text/x-python",
   "name": "python",
   "nbconvert_exporter": "python",
   "pygments_lexer": "ipython3",
   "version": "3.6.9-final"
  },
  "orig_nbformat": 2,
  "kernelspec": {
   "name": "python_defaultSpec_1600523937963",
   "display_name": "Python 3.6.9 64-bit ('enzyme_python': conda)"
  }
 },
 "nbformat": 4,
 "nbformat_minor": 2,
 "cells": [
  {
   "cell_type": "code",
   "execution_count": 2,
   "metadata": {},
   "outputs": [],
   "source": [
    "import os\n",
    "prev_path = os.getcwd()\n",
    "input_path='E:/20191218/My_Code/AutoEnzModel/data/Brenda'\n",
    "os.chdir(input_path)\n",
    "dir_files = os.listdir(input_path)\n",
    "dir_files.sort()"
   ]
  },
  {
   "cell_type": "code",
   "execution_count": 12,
   "metadata": {
    "tags": []
   },
   "outputs": [],
   "source": [
    "import pandas as pd\n",
    "import numpy as np\n",
    "EC_Kcat_max_outfile_df=pd.DataFrame()\n",
    "for eachfile in dir_files:    \n",
    "    if os.path.getsize(eachfile):\n",
    "        EC_number=eachfile.split('_')[0]\n",
    "        features_type=eachfile.split('_')[1].split('.')[0]       \n",
    "        if features_type=='KCAT':\n",
    "            EC_Kcat_tmp=pd.read_csv(eachfile,sep='!')\n",
    "            EC_Kcat_tmp.index.name = 'total_name'\n",
    "            EC_Kcat_data=EC_Kcat_tmp.T\n",
    "            EC_Kcat_data.reset_index(inplace=True)\n",
    "            EC_Kcat_data[\"ecNumber\"] = EC_Kcat_data[\"index\"].map(lambda x:x.split('#')[0].split(\"*\")[1])\n",
    "            EC_Kcat_data[\"turnoverNumber\"] = EC_Kcat_data[\"index\"].map(lambda x: float(x.split('#')[1].split(\"*\")[1]))\n",
    "            EC_Kcat_data[\"substrate\"] = EC_Kcat_data[\"index\"].map(lambda x:x.split('#')[3].split(\"*\")[1])\n",
    "            EC_Kcat_data[\"commentary\"] = EC_Kcat_data[\"index\"].map(lambda x:x.split('#')[4].split(\"*\")[1])\n",
    "            EC_Kcat_data[\"organism\"] = EC_Kcat_data[\"index\"].map(lambda x:x.split('#')[5].split(\"*\")[1])\n",
    "            EC_Kcat_data=EC_Kcat_data.drop('index',1)\n",
    "            EC_Kcat_max_data=EC_Kcat_data[EC_Kcat_data['turnoverNumber']==np.max(EC_Kcat_data[\"turnoverNumber\"])]\n",
    "            for index, row in EC_Kcat_max_data.iterrows():\n",
    "                out_index=row['ecNumber']+'_'+row['substrate']+'_'+row['organism']\n",
    "                EC_Kcat_max_outfile_df.loc[out_index,'ecNumber']=row['ecNumber']\n",
    "                EC_Kcat_max_outfile_df.loc[out_index,'turnoverNumber']=row['turnoverNumber']\n",
    "                EC_Kcat_max_outfile_df.loc[out_index,'substrate']=row['substrate']\n",
    "                EC_Kcat_max_outfile_df.loc[out_index,'commentary']=row['commentary']\n",
    "                EC_Kcat_max_outfile_df.loc[out_index,'organism']=row['organism']\n",
    "            #break\n",
    "EC_Kcat_max_outfile_df.to_csv('E:/20191218/My_Code/AutoEnzModel/analysis/EC_Kcat_max_file.csv') "
   ]
  },
  {
   "cell_type": "code",
   "execution_count": 13,
   "metadata": {},
   "outputs": [],
   "source": [
    "import pandas as pd\n",
    "\n",
    "EC_KM_max_outfile_df=pd.DataFrame()\n",
    "for eachfile in dir_files:    \n",
    "    if os.path.getsize(eachfile):\n",
    "        EC_number=eachfile.split('_')[0]\n",
    "        features_type=eachfile.split('_')[1].split('.')[0]       \n",
    "        if features_type=='KM':\n",
    "            EC_KM_tmp=pd.read_csv(eachfile,sep='!')\n",
    "            EC_KM_tmp.index.name = 'total_name'\n",
    "            EC_KM_data=EC_KM_tmp.T\n",
    "            EC_KM_data.reset_index(inplace=True)\n",
    "            EC_KM_data[\"ecNumber\"] = EC_KM_data[\"index\"].map(lambda x:x.split('#')[0].split(\"*\")[1])\n",
    "            EC_KM_data[\"turnoverNumber\"] = EC_KM_data[\"index\"].map(lambda x:x.split('#')[1].split(\"*\")[1])\n",
    "            EC_KM_data[\"substrate\"] = EC_KM_data[\"index\"].map(lambda x:x.split('#')[3].split(\"*\")[1])\n",
    "            EC_KM_data[\"commentary\"] = EC_KM_data[\"index\"].map(lambda x:x.split('#')[4].split(\"*\")[1])\n",
    "            EC_KM_data[\"organism\"] = EC_KM_data[\"index\"].map(lambda x:x.split('#')[5].split(\"*\")[1])\n",
    "            EC_KM_data=EC_KM_data.drop('index',1)\n",
    "            EC_KM_max_data=EC_KM_data[EC_KM_data['turnoverNumber']==np.max(EC_KM_data[\"turnoverNumber\"])]\n",
    "            for index, row in EC_KM_max_data.iterrows():\n",
    "                out_index=row['ecNumber']+'_'+row['substrate']+'_'+row['organism']\n",
    "                EC_KM_max_outfile_df.loc[out_index,'ecNumber']=row['ecNumber']\n",
    "                EC_KM_max_outfile_df.loc[out_index,'turnoverNumber']=row['turnoverNumber']\n",
    "                EC_KM_max_outfile_df.loc[out_index,'substrate']=row['substrate']\n",
    "                EC_KM_max_outfile_df.loc[out_index,'commentary']=row['commentary']\n",
    "                EC_KM_max_outfile_df.loc[out_index,'organism']=row['organism']\n",
    "            #break\n",
    "EC_KM_max_outfile_df.to_csv('E:/20191218/My_Code/AutoEnzModel/analysis/EC_KM_max_file.csv') "
   ]
  },
  {
   "cell_type": "code",
   "execution_count": null,
   "metadata": {},
   "outputs": [],
   "source": []
  }
 ]
}