{
 "metadata": {
  "language_info": {
   "codemirror_mode": {
    "name": "ipython",
    "version": 3
   },
   "file_extension": ".py",
   "mimetype": "text/x-python",
   "name": "python",
   "nbconvert_exporter": "python",
   "pygments_lexer": "ipython3",
   "version": "3.8.5-final"
  },
  "orig_nbformat": 2,
  "kernelspec": {
   "name": "python_defaultSpec_1599113421606",
   "display_name": "Python 3.8.5 64-bit ('Develop_Env': conda)"
  }
 },
 "nbformat": 4,
 "nbformat_minor": 2,
 "cells": [
  {
   "cell_type": "code",
   "execution_count": null,
   "metadata": {},
   "outputs": [],
   "source": [
    "conda create -n Develop_Env python=3\n",
    "pip install cobra(0.19.0)\n",
    "pip install cobra -i https://pypi.tuna.tsinghua.edu.cn/simple\n",
    "pip install pylint -i https://pypi.tuna.tsinghua.edu.cn/simple\n",
    "pip install ipykernel -i https://pypi.tuna.tsinghua.edu.cn/simple\n",
    "pd.DataFrame.from_dict(reaction_ec_dict, orient='index', columns=['EC'])"
   ]
  },
  {
   "cell_type": "markdown",
   "metadata": {},
   "source": [
    "# python3 获取反应-EC"
   ]
  },
  {
   "cell_type": "code",
   "execution_count": 23,
   "metadata": {
    "tags": []
   },
   "outputs": [
    {
     "output_type": "stream",
     "name": "stdout",
     "text": "1516\n"
    }
   ],
   "source": [
    "import cobra\n",
    "import pandas as pd\n",
    "import re\n",
    "\n",
    "model_file='../data/model/iML1515.xml'\n",
    "model=cobra.io.read_sbml_model(model_file)\n",
    "\n",
    "genelist=[]\n",
    "\n",
    "for gene in model.genes:\n",
    "    genelist.append(gene)\n",
    "print(len(list(set(genelist))))"
   ]
  },
  {
   "cell_type": "code",
   "execution_count": 24,
   "metadata": {
    "tags": []
   },
   "outputs": [
    {
     "output_type": "stream",
     "name": "stdout",
     "text": "773\n"
    }
   ],
   "source": [
    "import cobra\n",
    "import pandas as pd\n",
    "import re\n",
    "\n",
    "model_file='../data/model/iCW773-gai.xml'\n",
    "model=cobra.io.read_sbml_model(model_file)\n",
    "\n",
    "genelist=[]\n",
    "\n",
    "for gene in model.genes:\n",
    "    genelist.append(gene)\n",
    "print(len(list(set(genelist))))"
   ]
  },
  {
   "cell_type": "markdown",
   "metadata": {},
   "source": [
    "# 1515模型的反应-EC"
   ]
  },
  {
   "cell_type": "code",
   "execution_count": 14,
   "metadata": {},
   "outputs": [
    {
     "output_type": "execute_result",
     "data": {
      "text/plain": "  Reaction         EC\n0   SHCHD2   1.3.1.76\n1   CPPPGO    1.3.3.3\n2    GTHOr    1.8.1.7\n3    PFK_3    2.7.1.-\n4    PFK_3   2.7.1.11\n5    TRPS2  4.2.1.122\n6    TRPS2   4.2.1.20\n7   LEUTAi   2.6.1.42\n8   LEUTAi    2.6.1.6\n9   LEUTAi   2.6.1.67",
      "text/html": "<div>\n<style scoped>\n    .dataframe tbody tr th:only-of-type {\n        vertical-align: middle;\n    }\n\n    .dataframe tbody tr th {\n        vertical-align: top;\n    }\n\n    .dataframe thead th {\n        text-align: right;\n    }\n</style>\n<table border=\"1\" class=\"dataframe\">\n  <thead>\n    <tr style=\"text-align: right;\">\n      <th></th>\n      <th>Reaction</th>\n      <th>EC</th>\n    </tr>\n  </thead>\n  <tbody>\n    <tr>\n      <th>0</th>\n      <td>SHCHD2</td>\n      <td>1.3.1.76</td>\n    </tr>\n    <tr>\n      <th>1</th>\n      <td>CPPPGO</td>\n      <td>1.3.3.3</td>\n    </tr>\n    <tr>\n      <th>2</th>\n      <td>GTHOr</td>\n      <td>1.8.1.7</td>\n    </tr>\n    <tr>\n      <th>3</th>\n      <td>PFK_3</td>\n      <td>2.7.1.-</td>\n    </tr>\n    <tr>\n      <th>4</th>\n      <td>PFK_3</td>\n      <td>2.7.1.11</td>\n    </tr>\n    <tr>\n      <th>5</th>\n      <td>TRPS2</td>\n      <td>4.2.1.122</td>\n    </tr>\n    <tr>\n      <th>6</th>\n      <td>TRPS2</td>\n      <td>4.2.1.20</td>\n    </tr>\n    <tr>\n      <th>7</th>\n      <td>LEUTAi</td>\n      <td>2.6.1.42</td>\n    </tr>\n    <tr>\n      <th>8</th>\n      <td>LEUTAi</td>\n      <td>2.6.1.6</td>\n    </tr>\n    <tr>\n      <th>9</th>\n      <td>LEUTAi</td>\n      <td>2.6.1.67</td>\n    </tr>\n  </tbody>\n</table>\n</div>"
     },
     "metadata": {},
     "execution_count": 14
    }
   ],
   "source": [
    "import cobra\n",
    "import pandas as pd\n",
    "import re\n",
    "\n",
    "model_file='../data/model/iML1515.xml'\n",
    "model=cobra.io.read_sbml_model(model_file)\n",
    "\n",
    "reaction_ec_dataframe=pd.DataFrame()\n",
    "num=0\n",
    "for rea in model.reactions:\n",
    "    ec_list=model.reactions.get_by_id(rea.id).annotation.get(\"ec-code\")\n",
    "    if isinstance(ec_list, list):   \n",
    "        for eachec in ec_list:\n",
    "            reaction_ec_dataframe.loc[num,'Reaction']=rea.id\n",
    "            reaction_ec_dataframe.loc[num,'EC']=eachec\n",
    "            num=num+1\n",
    "    elif isinstance(ec_list, str):   \n",
    "        reaction_ec_dataframe.loc[num,'Reaction']=rea.id\n",
    "        reaction_ec_dataframe.loc[num,'EC']=ec_list\n",
    "        num=num+1\n",
    "\n",
    "reaction_ec_dataframe.to_csv('../analysis/iML1515_reaction_ec.csv', header=True, index=True,mode='w')\n",
    "reaction_ec_dataframe.head(10)"
   ]
  },
  {
   "cell_type": "code",
   "execution_count": 18,
   "metadata": {
    "tags": []
   },
   "outputs": [
    {
     "output_type": "execute_result",
     "data": {
      "text/plain": "  Reaction       EC\n0   ACCOAC  6.4.1.2\n1      ICL  4.1.3.1\n2     MALS  2.3.3.9\n3      PDH  1.2.4.1\n4     ACKr  2.7.2.1\n5   ACONTa  4.2.1.3\n6   ACONTb  4.2.1.3\n7    ACPS1  2.7.8.7\n8   APH140  3.6.1.7\n9   ALCD2x  1.1.1.1",
      "text/html": "<div>\n<style scoped>\n    .dataframe tbody tr th:only-of-type {\n        vertical-align: middle;\n    }\n\n    .dataframe tbody tr th {\n        vertical-align: top;\n    }\n\n    .dataframe thead th {\n        text-align: right;\n    }\n</style>\n<table border=\"1\" class=\"dataframe\">\n  <thead>\n    <tr style=\"text-align: right;\">\n      <th></th>\n      <th>Reaction</th>\n      <th>EC</th>\n    </tr>\n  </thead>\n  <tbody>\n    <tr>\n      <th>0</th>\n      <td>ACCOAC</td>\n      <td>6.4.1.2</td>\n    </tr>\n    <tr>\n      <th>1</th>\n      <td>ICL</td>\n      <td>4.1.3.1</td>\n    </tr>\n    <tr>\n      <th>2</th>\n      <td>MALS</td>\n      <td>2.3.3.9</td>\n    </tr>\n    <tr>\n      <th>3</th>\n      <td>PDH</td>\n      <td>1.2.4.1</td>\n    </tr>\n    <tr>\n      <th>4</th>\n      <td>ACKr</td>\n      <td>2.7.2.1</td>\n    </tr>\n    <tr>\n      <th>5</th>\n      <td>ACONTa</td>\n      <td>4.2.1.3</td>\n    </tr>\n    <tr>\n      <th>6</th>\n      <td>ACONTb</td>\n      <td>4.2.1.3</td>\n    </tr>\n    <tr>\n      <th>7</th>\n      <td>ACPS1</td>\n      <td>2.7.8.7</td>\n    </tr>\n    <tr>\n      <th>8</th>\n      <td>APH140</td>\n      <td>3.6.1.7</td>\n    </tr>\n    <tr>\n      <th>9</th>\n      <td>ALCD2x</td>\n      <td>1.1.1.1</td>\n    </tr>\n  </tbody>\n</table>\n</div>"
     },
     "metadata": {},
     "execution_count": 18
    }
   ],
   "source": [
    "import cobra\n",
    "import pandas as pd\n",
    "import re\n",
    "\n",
    "model_file='../data/model/iCW773-gai.xml'\n",
    "model=cobra.io.read_sbml_model(model_file)\n",
    "\n",
    "reaction_ec_dataframe=pd.DataFrame()\n",
    "num=0\n",
    "for rea in model.reactions:\n",
    "    ec_list=model.reactions.get_by_id(rea.id).notes.get(\"EC Number\")\n",
    "    if isinstance(ec_list, list):   \n",
    "        for eachec in ec_list:\n",
    "            reaction_ec_dataframe.loc[num,'Reaction']=rea.id\n",
    "            reaction_ec_dataframe.loc[num,'EC']=eachec\n",
    "            num=num+1\n",
    "    elif isinstance(ec_list, str):   \n",
    "        reaction_ec_dataframe.loc[num,'Reaction']=rea.id\n",
    "        reaction_ec_dataframe.loc[num,'EC']=ec_list\n",
    "        num=num+1\n",
    "\n",
    "reaction_ec_dataframe.to_csv('../analysis/iCW773_reaction_ec.csv', header=True, index=True,mode='w')\n",
    "reaction_ec_dataframe.head(10)"
   ]
  },
  {
   "cell_type": "code",
   "execution_count": 20,
   "metadata": {
    "tags": []
   },
   "outputs": [
    {
     "output_type": "stream",
     "name": "stdout",
     "text": "iML1515 反应数：1092\niML1515 EC数：905\niCW773 反应数：624\niCW773 EC数：418\n"
    }
   ],
   "source": [
    "import pandas as pd\n",
    "iML1515_reaction_ec=pd.read_csv('../analysis/iML1515_reaction_ec.csv',index_col=0) \n",
    "iCW773_reaction_ec=pd.read_csv('../analysis/iCW773_reaction_ec.csv',index_col=0) \n",
    "\n",
    "iML1515_reaction_uni=list(set(iML1515_reaction_ec['Reaction']))\n",
    "iML1515_ec=list(set(iML1515_reaction_ec['EC']))\n",
    "iCW773_reaction_uni=list(set(iCW773_reaction_ec['Reaction']))\n",
    "iCW773_ec=list(set(iCW773_reaction_ec['EC']))\n",
    "\n",
    "print(\"iML1515 反应数：\"+str(len(iML1515_reaction_uni)))\n",
    "print(\"iML1515 EC数：\"+str(len(iML1515_ec)))\n",
    "print(\"iCW773 反应数：\"+str(len(iCW773_reaction_uni)))\n",
    "print(\"iCW773 EC数：\"+str(len(iCW773_ec)))"
   ]
  },
  {
   "cell_type": "code",
   "execution_count": null,
   "metadata": {},
   "outputs": [],
   "source": []
  }
 ]
}